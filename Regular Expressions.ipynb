{
 "cells": [
  {
   "cell_type": "code",
   "execution_count": 2,
   "metadata": {
    "collapsed": true
   },
   "outputs": [],
   "source": [
    "import re"
   ]
  },
  {
   "cell_type": "code",
   "execution_count": 3,
   "outputs": [
    {
     "name": "stdout",
     "output_type": "stream",
     "text": [
      "\tTab\n",
      "\\tTab\n"
     ]
    }
   ],
   "source": [
    "print('\\tTab') # Special characters are handled\n",
    "print(r'\\tTab') # # Special characters are not handled"
   ],
   "metadata": {
    "collapsed": false,
    "pycharm": {
     "name": "#%%\n"
    }
   }
  },
  {
   "cell_type": "code",
   "execution_count": 4,
   "outputs": [],
   "source": [
    "text = '''\n",
    "Mr Anurag Deyol\n",
    "MR ABHISHEK DEYOL\n",
    "Mrs Pinki Rani\n",
    "Lt Col Satendra Singh\n",
    "Ms Anusha Jain\n",
    "\n",
    "This house is very nice.\n",
    "Oh you are too humble.\n",
    "\n",
    "Cat\n",
    "Bat\n",
    "Hat\n",
    "Pat\n",
    "\n",
    "9652568871\n",
    "8878893417\n",
    "99991-10075\n",
    "87005.76839\n",
    "78994_35513\n",
    "90801--27655\n",
    "\n",
    "https://github.com/anCoderr\n",
    "http://www.leetcode.com/anCoderr\n",
    "http://www.youtube.com/\n",
    "https://www.google.com/\n",
    "\n",
    "cringe.carl007@gmail.com\n",
    "no.normies69@gmail.com\n",
    "the.realcarl@outlook.edu\n",
    "\n",
    "a1$kA8kA%-\n",
    "aaAs%5*5Z+\n",
    "334&*%MTip\n",
    "Qr6%**tL3\n",
    "'''"
   ],
   "metadata": {
    "collapsed": false,
    "pycharm": {
     "name": "#%%\n"
    }
   }
  },
  {
   "cell_type": "code",
   "execution_count": 5,
   "outputs": [],
   "source": [
    "#  .    - Any Character Except New Line\n",
    "#  \\d   - Digit (0-9)\n",
    "#  \\D   - Not a Digit (0-9)\n",
    "#  \\w   - Word Character (a-z, A-Z, 0-9, _)\n",
    "#  \\W   - Not a Word Character\n",
    "#  \\s   - Whitespace (space, tab, newline)\n",
    "#  \\S   - Not a Whitespace (space, tab, newline)\n",
    "\n",
    "# Anchors: Specifies the positioning for regex\n",
    "#  \\b   - Word Boundary\n",
    "#  \\B   - Not a Word Boundary\n",
    "#  ^    - Beginning of a String\n",
    "#  $    - End of a String\n",
    "#\n",
    "#  []   - Matches Characters in brackets\n",
    "#  [^ ] - Matches Characters NOT in brackets\n",
    "#  |    - Either Or\n",
    "#  ( )  - Group\n",
    "#\n",
    "# Quantifiers: Specifies the number of times a pattern shall repeat in regex\n",
    "#              They come after the character or []\n",
    "#  *    - 0 or More\n",
    "#  +    - 1 or More\n",
    "#  ?    - 0 or One\n",
    "#  {3}  - Exact Number\n",
    "#  {3,4}- Range of Numbers (Minimum, Maximum)\n",
    "#\n",
    "#\n",
    "#  #### Sample Regexs ####\n",
    "#  [a-zA-Z0-9_.+-]+@[a-zA-Z0-9-]+\\.[a-zA-Z0-9-.]+"
   ],
   "metadata": {
    "collapsed": false,
    "pycharm": {
     "name": "#%%\n"
    }
   }
  },
  {
   "cell_type": "code",
   "execution_count": 6,
   "outputs": [
    {
     "name": "stdout",
     "output_type": "stream",
     "text": [
      "<re.Match object; span=(1, 3), match='Mr'>\n",
      "<re.Match object; span=(35, 37), match='Mr'>\n"
     ]
    }
   ],
   "source": [
    "pattern = re.compile(r'Mr')\n",
    "pattern1 = re.compile(r'.')  # . means every single character in the string\n",
    "pattern2 = re.compile(r'\\.') # \\. means the literal \".\"\n",
    "\n",
    "matches = pattern.finditer(text)\n",
    "for match in matches:\n",
    "    print(match)\n",
    "\n",
    "# for match in pattern2.finditer(text):\n",
    "#     print(match)\n",
    "# for match in pattern1.finditer(text):\n",
    "#     print(match)"
   ],
   "metadata": {
    "collapsed": false,
    "pycharm": {
     "name": "#%%\n"
    }
   }
  },
  {
   "cell_type": "code",
   "execution_count": 8,
   "outputs": [
    {
     "name": "stdout",
     "output_type": "stream",
     "text": [
      "<re.Match object; span=(1, 16), match='Mr Anurag Deyol'>\n",
      "<re.Match object; span=(35, 49), match='Mrs Pinki Rani'>\n",
      "<re.Match object; span=(72, 86), match='Ms Anusha Jain'>\n"
     ]
    }
   ],
   "source": [
    "# pattern = re.compile(r'\\d\\d\\d\\d\\d[_.-]*\\d\\d\\d\\d\\d') # For Phone Numbers\n",
    "# pattern = re.compile(r'\\d{5}[_.-]*\\d{5}') # For Phone Numbers but with Integer Quantifier\n",
    "# pattern = re.compile(r'M[rR]s?\\s[A-Z]\\w*\\s\\w*') # For Names\n",
    "# pattern = re.compile(r'[^B]at') # All _at apart from Bat\n",
    "pattern = re.compile(r'M(r|s|rs)\\s[A-Z]\\w*\\s\\w*') # For Names but better\n",
    "# pattern = re.compile(r'[\\w.]+@?[\\w.]+com') # For all _.com\n",
    "# pattern = re.compile(r'[\\w.]+@[\\w.]+com') # For emails\n",
    "# pattern = re.compile(r'[a-zA-Z0-9.]+@[a-zA-Z]+\\.(com|edu)') # For emails but better and cleaner\n",
    "# pattern = re.compile(r'[a-zA-Z0-9_.+-]+@[a-zA-Z0-9-]+\\.[a-zA-Z0-9-.]+') # For emails but BEST!!\n",
    "# pattern = re.compile(r'((http|https)://)(www.)?[a-zA-Z0-9@:%._\\\\+~#?&/=]{2,256}\\\\.[a-z]{2,6}\\\\b([-a-zA-Z0-9@:%._\\\\+~#?&/=]*)') # For websites\n",
    "\n",
    "matches = pattern.finditer(text)\n",
    "for match in matches:\n",
    "    print(match)"
   ],
   "metadata": {
    "collapsed": false,
    "pycharm": {
     "name": "#%%\n"
    }
   }
  },
  {
   "cell_type": "code",
   "execution_count": 7,
   "outputs": [],
   "source": [],
   "metadata": {
    "collapsed": false,
    "pycharm": {
     "name": "#%%\n"
    }
   }
  }
 ],
 "metadata": {
  "kernelspec": {
   "display_name": "Python 3",
   "language": "python",
   "name": "python3"
  },
  "language_info": {
   "codemirror_mode": {
    "name": "ipython",
    "version": 2
   },
   "file_extension": ".py",
   "mimetype": "text/x-python",
   "name": "python",
   "nbconvert_exporter": "python",
   "pygments_lexer": "ipython2",
   "version": "2.7.6"
  }
 },
 "nbformat": 4,
 "nbformat_minor": 0
}