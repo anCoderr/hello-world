{
 "cells": [
  {
   "cell_type": "code",
   "execution_count": 1,
   "metadata": {
    "collapsed": true
   },
   "outputs": [],
   "source": [
    "import numpy as np"
   ]
  },
  {
   "cell_type": "markdown",
   "source": [
    "# Basic NP Array Initialization:"
   ],
   "metadata": {
    "collapsed": false
   }
  },
  {
   "cell_type": "code",
   "execution_count": 2,
   "outputs": [
    {
     "name": "stdout",
     "output_type": "stream",
     "text": [
      "[1 2 3]\n",
      "[[9.  8.  7.8]\n",
      " [6.  5.3 3. ]]\n"
     ]
    }
   ],
   "source": [
    "a = np.array([1,2,3])\n",
    "b = np.array([[9.0,8.0,7.8],[6.0,5.3,3.0]], dtype='float32')\n",
    "print(a)\n",
    "print(b)"
   ],
   "metadata": {
    "collapsed": false,
    "pycharm": {
     "name": "#%%\n"
    }
   }
  },
  {
   "cell_type": "markdown",
   "source": [
    "# Useful NP Array Attributes:\n",
    "# np.ndarray.ndim, .shape, .size, .dtype, .itemsize, .nbytes"
   ],
   "metadata": {
    "collapsed": false
   }
  },
  {
   "cell_type": "code",
   "execution_count": 3,
   "outputs": [
    {
     "name": "stdout",
     "output_type": "stream",
     "text": [
      "Number of dimensions:\n",
      "for a: 1\n",
      "for b: 2\n",
      "Shape of array:\n",
      "for a: (3,)\n",
      "for b: (2, 3)\n",
      "Number of elements:\n",
      "for a: 3\n",
      "for b: 6\n",
      "Datatype for the array:\n",
      "for a: int32\n",
      "for b: float32\n",
      "Item size for each element in bytes:\n",
      "for a: 4\n",
      "for b: 4\n",
      "Total number of bytes consumed:\n",
      "for a: 12\n",
      "for b: 24\n"
     ]
    }
   ],
   "source": [
    "print('Number of dimensions:')\n",
    "print('for a:', a.ndim)\n",
    "print('for b:', b.ndim)\n",
    "print('Shape of array:')\n",
    "print('for a:',a.shape)\n",
    "print('for b:',b.shape)\n",
    "print('Number of elements:')\n",
    "print('for a:',a.size)\n",
    "print('for b:',b.size)\n",
    "print('Datatype for the array:')\n",
    "print('for a:',a.dtype)\n",
    "print('for b:',b.dtype)\n",
    "print('Item size for each element in bytes:')\n",
    "print('for a:',a.itemsize)\n",
    "print('for b:',b.itemsize)\n",
    "print('Total number of bytes consumed:')\n",
    "print('for a:',a.nbytes)\n",
    "print('for b:',b.nbytes)"
   ],
   "metadata": {
    "collapsed": false,
    "pycharm": {
     "name": "#%%\n"
    }
   }
  },
  {
   "cell_type": "markdown",
   "source": [
    "# NP Array Indexing:"
   ],
   "metadata": {
    "collapsed": false
   }
  },
  {
   "cell_type": "code",
   "execution_count": 4,
   "outputs": [
    {
     "name": "stdout",
     "output_type": "stream",
     "text": [
      "[[ 1  2  3  4  5  6  7]\n",
      " [ 8  9 10 11 12 13 14]]\n",
      "13\n",
      "[ 6 13]\n",
      "[ 8  9 10 11 12 13 14]\n",
      "[[ 2  4]\n",
      " [ 9 11]]\n"
     ]
    }
   ],
   "source": [
    "a = np.array([[1,2,3,4,5,6,7],[8,9,10,11,12,13,14]])\n",
    "print(a)\n",
    "print(a[1,5])\n",
    "print(a[:,5])\n",
    "print(a[1,:])\n",
    "print(a[:,1:5:2]) # start_index, end_index, step_size"
   ],
   "metadata": {
    "collapsed": false,
    "pycharm": {
     "name": "#%%\n"
    }
   }
  },
  {
   "cell_type": "markdown",
   "source": [
    "# NP Array Changing Specific Values:"
   ],
   "metadata": {
    "collapsed": false
   }
  },
  {
   "cell_type": "code",
   "execution_count": 5,
   "outputs": [
    {
     "name": "stdout",
     "output_type": "stream",
     "text": [
      "[[ 1  2  3  4  5  6  7]\n",
      " [ 8  9  1  1  1  1 14]]\n",
      "[[ 1  2  3  4  5  6  7]\n",
      " [ 8  9 21 22 23 24 14]]\n"
     ]
    }
   ],
   "source": [
    "a[1,2:6] = 1\n",
    "print(a)\n",
    "a[1,2:6] = [21,22,23,24]\n",
    "print(a)"
   ],
   "metadata": {
    "collapsed": false,
    "pycharm": {
     "name": "#%%\n"
    }
   }
  },
  {
   "cell_type": "markdown",
   "source": [
    "# NP Array Initialization Advanced:"
   ],
   "metadata": {
    "collapsed": false
   }
  },
  {
   "cell_type": "code",
   "execution_count": 6,
   "outputs": [
    {
     "name": "stdout",
     "output_type": "stream",
     "text": [
      "[[[0. 0. 0. 0.]\n",
      "  [0. 0. 0. 0.]\n",
      "  [0. 0. 0. 0.]]\n",
      "\n",
      " [[0. 0. 0. 0.]\n",
      "  [0. 0. 0. 0.]\n",
      "  [0. 0. 0. 0.]]]\n",
      "[[1 1 1]\n",
      " [1 1 1]]\n",
      "[[13. 13. 13.]\n",
      " [13. 13. 13.]]\n",
      "[[1. 0. 0.]\n",
      " [0. 1. 0.]\n",
      " [0. 0. 1.]]\n"
     ]
    }
   ],
   "source": [
    "print(np.zeros((2,3,4)))\n",
    "print(np.ones((2,3), dtype='int16'))\n",
    "print(np.full((2,3), 13, dtype='float32'))\n",
    "print(np.identity(3))"
   ],
   "metadata": {
    "collapsed": false,
    "pycharm": {
     "name": "#%%\n"
    }
   }
  },
  {
   "cell_type": "code",
   "execution_count": 7,
   "outputs": [
    {
     "name": "stdout",
     "output_type": "stream",
     "text": [
      "[[0 0 0 0 0 0 0]\n",
      " [0 0 0 0 0 0 0]]\n",
      "[[1 1 1 1 1 1 1]\n",
      " [1 1 1 1 1 1 1]]\n",
      "[[99 99 99 99 99 99 99]\n",
      " [99 99 99 99 99 99 99]]\n"
     ]
    }
   ],
   "source": [
    "print(np.zeros_like(a))\n",
    "print(np.ones_like(a))\n",
    "print(np.full_like(a, 99))"
   ],
   "metadata": {
    "collapsed": false,
    "pycharm": {
     "name": "#%%\n"
    }
   }
  },
  {
   "cell_type": "code",
   "execution_count": 8,
   "outputs": [
    {
     "name": "stdout",
     "output_type": "stream",
     "text": [
      "[[0.61994594 0.65921774 0.84224777]\n",
      " [0.65240216 0.78960575 0.87748177]]\n",
      "[[ 2  0  0 -3  2]\n",
      " [ 1 -2  2  4 -3]\n",
      " [-1  5  2 -2 -1]]\n",
      "[[0.54473468 0.95746988 0.50087456]\n",
      " [0.36076962 0.27838526 0.55734444]]\n"
     ]
    }
   ],
   "source": [
    "print(np.random.rand(2,3))\n",
    "print(np.random.randint(-5, 6, size=(3,5)))\n",
    "print(np.random.random_sample(b.shape))"
   ],
   "metadata": {
    "collapsed": false,
    "pycharm": {
     "name": "#%%\n"
    }
   }
  },
  {
   "cell_type": "code",
   "execution_count": 9,
   "outputs": [
    {
     "name": "stdout",
     "output_type": "stream",
     "text": [
      "[1 1 1 2 2 2 3 3 3]\n",
      "[[1 2 3]\n",
      " [1 2 3]\n",
      " [1 2 3]]\n"
     ]
    }
   ],
   "source": [
    "arr = np.array([1,2,3])\n",
    "print(np.repeat(arr, 3, axis=0))\n",
    "arr = np.array([[1,2,3]])\n",
    "print(np.repeat(arr, 3, axis=0))"
   ],
   "metadata": {
    "collapsed": false,
    "pycharm": {
     "name": "#%%\n"
    }
   }
  },
  {
   "cell_type": "code",
   "execution_count": 10,
   "outputs": [
    {
     "name": "stdout",
     "output_type": "stream",
     "text": [
      "[[1 1 1 1 1]\n",
      " [1 0 0 0 1]\n",
      " [1 0 9 0 1]\n",
      " [1 0 0 0 1]\n",
      " [1 1 1 1 1]]\n"
     ]
    }
   ],
   "source": [
    "output = np.ones((5,5), dtype='int32')\n",
    "output[1:4, 1:4] = 0\n",
    "output[2,2] = 9\n",
    "print(output)"
   ],
   "metadata": {
    "collapsed": false,
    "pycharm": {
     "name": "#%%\n"
    }
   }
  },
  {
   "cell_type": "markdown",
   "source": [
    "# NP Array Passing:\n",
    "### Copying array leads to changes being made to one translating to the other array."
   ],
   "metadata": {
    "collapsed": false
   }
  },
  {
   "cell_type": "code",
   "execution_count": 11,
   "outputs": [
    {
     "name": "stdout",
     "output_type": "stream",
     "text": [
      "[1 2 3]\n",
      "[1 2 3]\n",
      "[100   2   3]\n",
      "[100   2   3]\n"
     ]
    }
   ],
   "source": [
    "a = np.array([1,2,3])\n",
    "b = a\n",
    "print(a)\n",
    "print(b)\n",
    "b[0] = 100\n",
    "print(a)\n",
    "print(b)"
   ],
   "metadata": {
    "collapsed": false,
    "pycharm": {
     "name": "#%%\n"
    }
   }
  },
  {
   "cell_type": "markdown",
   "source": [
    "# NP Array Copying:\n",
    "### Copying array doesnt lead to changes being made to one translating to the other array."
   ],
   "metadata": {
    "collapsed": false
   }
  },
  {
   "cell_type": "code",
   "execution_count": 12,
   "outputs": [
    {
     "name": "stdout",
     "output_type": "stream",
     "text": [
      "[1 2 3]\n",
      "[1 2 3]\n",
      "[1 2 3]\n",
      "[100   2   3]\n"
     ]
    }
   ],
   "source": [
    "a = np.array([1,2,3])\n",
    "b = a.copy()\n",
    "print(a)\n",
    "print(b)\n",
    "b[0] = 100\n",
    "print(a)\n",
    "print(b)"
   ],
   "metadata": {
    "collapsed": false,
    "pycharm": {
     "name": "#%%\n"
    }
   }
  },
  {
   "cell_type": "markdown",
   "source": [
    "# NP Array Arithmetic Operations:"
   ],
   "metadata": {
    "collapsed": false
   }
  },
  {
   "cell_type": "code",
   "execution_count": 13,
   "outputs": [
    {
     "name": "stdout",
     "output_type": "stream",
     "text": [
      "[1 2 3 4]\n",
      "[3 4 5 6]\n",
      "[-1  0  1  2]\n",
      "[2 4 6 8]\n",
      "[0.5 1.  1.5 2. ]\n",
      "[1 0 1 0]\n",
      "[ 1  4  9 16]\n",
      "[ 5 12 21 32]\n"
     ]
    }
   ],
   "source": [
    "a = np.array([1,2,3,4])\n",
    "b = np.array([5,6,7,8])\n",
    "print(a)\n",
    "print(a+2)\n",
    "print(a-2)\n",
    "print(a*2)\n",
    "print(a/2)\n",
    "print(a%2)\n",
    "print(a**2)\n",
    "print(a*b)"
   ],
   "metadata": {
    "collapsed": false,
    "pycharm": {
     "name": "#%%\n"
    }
   }
  },
  {
   "cell_type": "markdown",
   "source": [
    "# NP Array Trigonometric Operations:"
   ],
   "metadata": {
    "collapsed": false
   }
  },
  {
   "cell_type": "code",
   "execution_count": 14,
   "outputs": [
    {
     "name": "stdout",
     "output_type": "stream",
     "text": [
      "[ 0.84147098  0.90929743  0.14112001 -0.7568025 ]\n",
      "[ 0.54030231 -0.41614684 -0.9899925  -0.65364362]\n",
      "[ 1.55740772 -2.18503986 -0.14254654  1.15782128]\n",
      "[ 1.17520119  3.62686041 10.01787493 27.2899172 ]\n",
      "[ 1.54308063  3.76219569 10.067662   27.30823284]\n",
      "[0.76159416 0.96402758 0.99505475 0.9993293 ]\n",
      "0.848062078981481\n",
      "0.7227342478134157\n",
      "0.9729550745276566\n"
     ]
    }
   ],
   "source": [
    "print(np.sin(a))\n",
    "print(np.cos(a))\n",
    "print(np.tan(a))\n",
    "print(np.sinh(a))\n",
    "print(np.cosh(a))\n",
    "print(np.tanh(a))\n",
    "print(np.arcsin(0.75))\n",
    "print(np.arccos(0.75))\n",
    "print(np.arctanh(0.75))"
   ],
   "metadata": {
    "collapsed": false,
    "pycharm": {
     "name": "#%%\n"
    }
   }
  },
  {
   "cell_type": "markdown",
   "source": [
    "# NP Array Linear Algebra"
   ],
   "metadata": {
    "collapsed": false
   }
  },
  {
   "cell_type": "code",
   "execution_count": 15,
   "outputs": [
    {
     "name": "stdout",
     "output_type": "stream",
     "text": [
      "[[1 1 1]\n",
      " [1 1 1]]\n",
      "[[2 2]\n",
      " [2 2]\n",
      " [2 2]]\n",
      "[[6 6]\n",
      " [6 6]]\n",
      "1.0\n"
     ]
    }
   ],
   "source": [
    "a = np.full((2,3),1)\n",
    "b = np.full((3,2),2)\n",
    "c = np.identity(3)\n",
    "print(a)\n",
    "print(b)\n",
    "print(np.matmul(a,b))\n",
    "print(np.linalg.det(c))\n",
    "# For more Linear Algebra Operations with Numpy\n",
    "# https://numpy.org/doc/stable/reference/routines.linalg.html\n",
    "# Determinant, Trace, Eigenvalues, Matrix Norm, Inverse"
   ],
   "metadata": {
    "collapsed": false,
    "pycharm": {
     "name": "#%%\n"
    }
   }
  },
  {
   "cell_type": "markdown",
   "source": [
    "# NP Array Statistics:\n",
    "# np.min(), np.max(), np.sum()"
   ],
   "metadata": {
    "collapsed": false
   }
  },
  {
   "cell_type": "code",
   "execution_count": 16,
   "outputs": [
    {
     "name": "stdout",
     "output_type": "stream",
     "text": [
      "[[10 11 12]\n",
      " [30 15 20]]\n",
      "10\n",
      "[10 15]\n",
      "[10 11 12]\n",
      "30\n"
     ]
    }
   ],
   "source": [
    "a = np.array([[10,11,12],[30,15,20]])\n",
    "print(a)\n",
    "print(np.min(a))\n",
    "print(np.min(a, axis=1))\n",
    "print(np.min(a, axis=0))\n",
    "print(np.max(a))"
   ],
   "metadata": {
    "collapsed": false,
    "pycharm": {
     "name": "#%%\n"
    }
   }
  },
  {
   "cell_type": "markdown",
   "source": [
    "# NP Array Reorganizing and Reshaping:\n",
    "# np.ndarray.reshape(), np.vstack(), np.hstack():"
   ],
   "metadata": {
    "collapsed": false
   }
  },
  {
   "cell_type": "code",
   "execution_count": 17,
   "outputs": [
    {
     "name": "stdout",
     "output_type": "stream",
     "text": [
      "[[1 2 3 4]\n",
      " [5 6 7 8]] \n",
      "\n",
      "[[1 2 3 4 5 6 7 8]] \n",
      "\n",
      "[[1 2 3 4 5 6 7 8]] \n",
      "\n",
      "[[1 2 3 4 5 6 7 8]] \n",
      "\n",
      "[[1 2]\n",
      " [3 4]\n",
      " [5 6]\n",
      " [7 8]] \n",
      "\n",
      "[[[1 2]\n",
      "  [3 4]]\n",
      "\n",
      " [[5 6]\n",
      "  [7 8]]]\n"
     ]
    }
   ],
   "source": [
    "a = np.array([[1,2,3,4],[5,6,7,8]])\n",
    "print(a,'\\n')\n",
    "\n",
    "print(a.reshape((1,8)),'\\n')\n",
    "print(a.reshape((-1,8)),'\\n')\n",
    "print(a.reshape((1,-1)),'\\n')\n",
    "print(a.reshape((4,2)),'\\n')\n",
    "print(a.reshape((2,2,2)))"
   ],
   "metadata": {
    "collapsed": false,
    "pycharm": {
     "name": "#%%\n"
    }
   }
  },
  {
   "cell_type": "code",
   "execution_count": 18,
   "outputs": [
    {
     "name": "stdout",
     "output_type": "stream",
     "text": [
      "[[ 1  2  3  4  5]\n",
      " [ 6  7  8  9 10]\n",
      " [11 12 13 14 15]]\n",
      "[[ 1  2  3  4  5 11 12 13 14 15]\n",
      " [ 6  7  8  9 10 16 17 18 19 20]]\n"
     ]
    }
   ],
   "source": [
    "a = np.array([[1,2,3,4,5],[6,7,8,9,10]])\n",
    "b = np.array([11,12,13,14,15])\n",
    "c = np.array([[11,12,13,14,15],[16,17,18,19,20]])\n",
    "print(np.vstack((a,b)))\n",
    "print(np.hstack((a,c)))"
   ],
   "metadata": {
    "collapsed": false,
    "pycharm": {
     "name": "#%%\n"
    }
   }
  }
 ],
 "metadata": {
  "kernelspec": {
   "display_name": "Python 3",
   "language": "python",
   "name": "python3"
  },
  "language_info": {
   "codemirror_mode": {
    "name": "ipython",
    "version": 2
   },
   "file_extension": ".py",
   "mimetype": "text/x-python",
   "name": "python",
   "nbconvert_exporter": "python",
   "pygments_lexer": "ipython2",
   "version": "2.7.6"
  }
 },
 "nbformat": 4,
 "nbformat_minor": 0
}