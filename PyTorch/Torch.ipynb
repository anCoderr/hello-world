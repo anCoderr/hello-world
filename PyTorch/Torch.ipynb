{
 "cells": [
  {
   "cell_type": "code",
   "execution_count": 1,
   "id": "82412b9b",
   "metadata": {},
   "outputs": [],
   "source": [
    "import torch\n",
    "import numpy as np\n",
    "import pandas as pd"
   ]
  },
  {
   "cell_type": "code",
   "execution_count": 2,
   "id": "edc6781e",
   "metadata": {},
   "outputs": [
    {
     "data": {
      "text/plain": "'1.1.0'"
     },
     "execution_count": 2,
     "metadata": {},
     "output_type": "execute_result"
    }
   ],
   "source": [
    "torch.__version__"
   ]
  },
  {
   "cell_type": "code",
   "execution_count": 3,
   "id": "a01d98ac",
   "metadata": {},
   "outputs": [],
   "source": [
    "arr = np.array([1,2,3,4,5])"
   ]
  },
  {
   "cell_type": "code",
   "execution_count": 4,
   "id": "a7213921",
   "metadata": {},
   "outputs": [
    {
     "name": "stdout",
     "output_type": "stream",
     "text": [
      "[1 2 3 4 5]\n"
     ]
    }
   ],
   "source": [
    "print(arr)"
   ]
  },
  {
   "cell_type": "code",
   "execution_count": 5,
   "id": "d3450d98",
   "metadata": {},
   "outputs": [
    {
     "data": {
      "text/plain": "dtype('int32')"
     },
     "execution_count": 5,
     "metadata": {},
     "output_type": "execute_result"
    }
   ],
   "source": [
    "arr.dtype"
   ]
  },
  {
   "cell_type": "code",
   "execution_count": 6,
   "id": "03aac835",
   "metadata": {},
   "outputs": [
    {
     "data": {
      "text/plain": "numpy.ndarray"
     },
     "execution_count": 6,
     "metadata": {},
     "output_type": "execute_result"
    }
   ],
   "source": [
    "type(arr)"
   ]
  },
  {
   "cell_type": "code",
   "execution_count": 7,
   "id": "3a6177c0",
   "metadata": {},
   "outputs": [
    {
     "data": {
      "text/plain": "tensor([1, 2, 3, 4, 5], dtype=torch.int32)"
     },
     "execution_count": 7,
     "metadata": {},
     "output_type": "execute_result"
    }
   ],
   "source": [
    "torch.from_numpy(arr)"
   ]
  },
  {
   "cell_type": "code",
   "execution_count": 8,
   "id": "c102a155",
   "metadata": {},
   "outputs": [],
   "source": [
    "ten = torch.from_numpy(arr)"
   ]
  },
  {
   "cell_type": "code",
   "execution_count": 9,
   "id": "2dad39c6",
   "metadata": {},
   "outputs": [
    {
     "data": {
      "text/plain": "tensor([1, 2, 3, 4, 5], dtype=torch.int32)"
     },
     "execution_count": 9,
     "metadata": {},
     "output_type": "execute_result"
    }
   ],
   "source": [
    "ten"
   ]
  },
  {
   "cell_type": "code",
   "execution_count": 10,
   "id": "c145a521",
   "metadata": {},
   "outputs": [
    {
     "data": {
      "text/plain": "torch.Tensor"
     },
     "execution_count": 10,
     "metadata": {},
     "output_type": "execute_result"
    }
   ],
   "source": [
    "type(ten)"
   ]
  },
  {
   "cell_type": "code",
   "execution_count": 11,
   "id": "63b858e5",
   "metadata": {},
   "outputs": [
    {
     "data": {
      "text/plain": "tensor([1, 2, 3, 4, 5], dtype=torch.int32)"
     },
     "execution_count": 11,
     "metadata": {},
     "output_type": "execute_result"
    }
   ],
   "source": [
    "torch.as_tensor(arr)"
   ]
  },
  {
   "cell_type": "code",
   "execution_count": 12,
   "id": "24d1cdab",
   "metadata": {},
   "outputs": [],
   "source": [
    "matrix = np.arange(0.0, 12.0)"
   ]
  },
  {
   "cell_type": "code",
   "execution_count": 13,
   "id": "448198fd",
   "metadata": {},
   "outputs": [
    {
     "data": {
      "text/plain": "array([ 0.,  1.,  2.,  3.,  4.,  5.,  6.,  7.,  8.,  9., 10., 11.])"
     },
     "execution_count": 13,
     "metadata": {},
     "output_type": "execute_result"
    }
   ],
   "source": [
    "matrix"
   ]
  },
  {
   "cell_type": "code",
   "execution_count": 14,
   "id": "ff0ab0c0",
   "metadata": {},
   "outputs": [],
   "source": [
    "matrix = matrix.reshape(4,3)"
   ]
  },
  {
   "cell_type": "code",
   "execution_count": 15,
   "id": "36fd0d72",
   "metadata": {},
   "outputs": [
    {
     "data": {
      "text/plain": "array([[ 0.,  1.,  2.],\n       [ 3.,  4.,  5.],\n       [ 6.,  7.,  8.],\n       [ 9., 10., 11.]])"
     },
     "execution_count": 15,
     "metadata": {},
     "output_type": "execute_result"
    }
   ],
   "source": [
    "matrix"
   ]
  },
  {
   "cell_type": "code",
   "execution_count": 16,
   "id": "9ba628f1",
   "metadata": {},
   "outputs": [],
   "source": [
    "ten2d = torch.from_numpy(matrix)"
   ]
  },
  {
   "cell_type": "code",
   "execution_count": 17,
   "id": "0b467a0c",
   "metadata": {},
   "outputs": [
    {
     "data": {
      "text/plain": "tensor([[ 0.,  1.,  2.],\n        [ 3.,  4.,  5.],\n        [ 6.,  7.,  8.],\n        [ 9., 10., 11.]], dtype=torch.float64)"
     },
     "execution_count": 17,
     "metadata": {},
     "output_type": "execute_result"
    }
   ],
   "source": [
    "ten2d"
   ]
  },
  {
   "cell_type": "code",
   "execution_count": 18,
   "id": "d062c920",
   "metadata": {},
   "outputs": [
    {
     "data": {
      "text/plain": "array([1, 2, 3, 4, 5])"
     },
     "execution_count": 18,
     "metadata": {},
     "output_type": "execute_result"
    }
   ],
   "source": [
    "arr"
   ]
  },
  {
   "cell_type": "code",
   "execution_count": 19,
   "id": "7ed1eeeb",
   "metadata": {},
   "outputs": [
    {
     "data": {
      "text/plain": "tensor([1, 2, 3, 4, 5], dtype=torch.int32)"
     },
     "execution_count": 19,
     "metadata": {},
     "output_type": "execute_result"
    }
   ],
   "source": [
    "ten"
   ]
  },
  {
   "cell_type": "code",
   "execution_count": 20,
   "id": "ea00815d",
   "metadata": {},
   "outputs": [],
   "source": [
    "arr[0] = 99"
   ]
  },
  {
   "cell_type": "code",
   "execution_count": 21,
   "id": "8a0d001e",
   "metadata": {},
   "outputs": [
    {
     "data": {
      "text/plain": "array([99,  2,  3,  4,  5])"
     },
     "execution_count": 21,
     "metadata": {},
     "output_type": "execute_result"
    }
   ],
   "source": [
    "arr"
   ]
  },
  {
   "cell_type": "code",
   "execution_count": 22,
   "id": "d0321daf",
   "metadata": {},
   "outputs": [
    {
     "data": {
      "text/plain": "tensor([99,  2,  3,  4,  5], dtype=torch.int32)"
     },
     "execution_count": 22,
     "metadata": {},
     "output_type": "execute_result"
    }
   ],
   "source": [
    "ten"
   ]
  },
  {
   "cell_type": "code",
   "execution_count": 23,
   "id": "11cd8e0f",
   "metadata": {},
   "outputs": [],
   "source": [
    "myarr = np.arange(0, 10)"
   ]
  },
  {
   "cell_type": "code",
   "execution_count": 24,
   "id": "29b55647",
   "metadata": {},
   "outputs": [
    {
     "data": {
      "text/plain": "array([0, 1, 2, 3, 4, 5, 6, 7, 8, 9])"
     },
     "execution_count": 24,
     "metadata": {},
     "output_type": "execute_result"
    }
   ],
   "source": [
    "myarr"
   ]
  },
  {
   "cell_type": "code",
   "execution_count": 25,
   "id": "96089eee",
   "metadata": {},
   "outputs": [],
   "source": [
    "mytensor = torch.tensor(myarr)"
   ]
  },
  {
   "cell_type": "code",
   "execution_count": 26,
   "id": "86d43407",
   "metadata": {},
   "outputs": [
    {
     "data": {
      "text/plain": "tensor([0, 1, 2, 3, 4, 5, 6, 7, 8, 9], dtype=torch.int32)"
     },
     "execution_count": 26,
     "metadata": {},
     "output_type": "execute_result"
    }
   ],
   "source": [
    "mytensor"
   ]
  },
  {
   "cell_type": "code",
   "execution_count": 27,
   "id": "f6d0c7cc",
   "metadata": {},
   "outputs": [],
   "source": [
    "myothertensor = torch.from_numpy(myarr)"
   ]
  },
  {
   "cell_type": "code",
   "execution_count": 28,
   "id": "f5af3511",
   "metadata": {},
   "outputs": [
    {
     "data": {
      "text/plain": "array([0, 1, 2, 3, 4, 5, 6, 7, 8, 9])"
     },
     "execution_count": 28,
     "metadata": {},
     "output_type": "execute_result"
    }
   ],
   "source": [
    "myarr"
   ]
  },
  {
   "cell_type": "code",
   "execution_count": 29,
   "id": "4fe424dc",
   "metadata": {},
   "outputs": [
    {
     "data": {
      "text/plain": "tensor([0, 1, 2, 3, 4, 5, 6, 7, 8, 9], dtype=torch.int32)"
     },
     "execution_count": 29,
     "metadata": {},
     "output_type": "execute_result"
    }
   ],
   "source": [
    "mytensor"
   ]
  },
  {
   "cell_type": "code",
   "execution_count": 30,
   "id": "2dc8fb5b",
   "metadata": {},
   "outputs": [
    {
     "data": {
      "text/plain": "tensor([0, 1, 2, 3, 4, 5, 6, 7, 8, 9], dtype=torch.int32)"
     },
     "execution_count": 30,
     "metadata": {},
     "output_type": "execute_result"
    }
   ],
   "source": [
    "myothertensor"
   ]
  },
  {
   "cell_type": "code",
   "execution_count": 31,
   "id": "03b2eed3",
   "metadata": {},
   "outputs": [],
   "source": [
    "myarr[0] = 99"
   ]
  },
  {
   "cell_type": "code",
   "execution_count": 32,
   "id": "cde23a7d",
   "metadata": {},
   "outputs": [
    {
     "data": {
      "text/plain": "array([99,  1,  2,  3,  4,  5,  6,  7,  8,  9])"
     },
     "execution_count": 32,
     "metadata": {},
     "output_type": "execute_result"
    }
   ],
   "source": [
    "myarr"
   ]
  },
  {
   "cell_type": "code",
   "execution_count": 33,
   "id": "df0dac57",
   "metadata": {},
   "outputs": [
    {
     "data": {
      "text/plain": "tensor([0, 1, 2, 3, 4, 5, 6, 7, 8, 9], dtype=torch.int32)"
     },
     "execution_count": 33,
     "metadata": {},
     "output_type": "execute_result"
    }
   ],
   "source": [
    "mytensor"
   ]
  },
  {
   "cell_type": "code",
   "execution_count": 34,
   "id": "fe3880da",
   "metadata": {},
   "outputs": [
    {
     "data": {
      "text/plain": "tensor([99,  1,  2,  3,  4,  5,  6,  7,  8,  9], dtype=torch.int32)"
     },
     "execution_count": 34,
     "metadata": {},
     "output_type": "execute_result"
    }
   ],
   "source": [
    "myothertensor"
   ]
  },
  {
   "cell_type": "code",
   "execution_count": 35,
   "id": "b290509f",
   "metadata": {},
   "outputs": [],
   "source": [
    "newarr = np.array([1,2,3])"
   ]
  },
  {
   "cell_type": "code",
   "execution_count": 36,
   "id": "a0423d30",
   "metadata": {},
   "outputs": [
    {
     "data": {
      "text/plain": "dtype('int32')"
     },
     "execution_count": 36,
     "metadata": {},
     "output_type": "execute_result"
    }
   ],
   "source": [
    "newarr.dtype"
   ]
  },
  {
   "cell_type": "code",
   "execution_count": 37,
   "id": "74b14492",
   "metadata": {},
   "outputs": [
    {
     "data": {
      "text/plain": "tensor([1, 2, 3], dtype=torch.int32)"
     },
     "execution_count": 37,
     "metadata": {},
     "output_type": "execute_result"
    }
   ],
   "source": [
    "torch.tensor(newarr)"
   ]
  },
  {
   "cell_type": "code",
   "execution_count": 38,
   "id": "eb5847d6",
   "metadata": {},
   "outputs": [],
   "source": [
    "ten = torch.Tensor(newarr)"
   ]
  },
  {
   "cell_type": "code",
   "execution_count": 39,
   "id": "f2f126eb",
   "metadata": {},
   "outputs": [
    {
     "data": {
      "text/plain": "torch.float32"
     },
     "execution_count": 39,
     "metadata": {},
     "output_type": "execute_result"
    }
   ],
   "source": [
    "ten.dtype"
   ]
  },
  {
   "cell_type": "code",
   "execution_count": 40,
   "id": "53d9ebe8",
   "metadata": {},
   "outputs": [
    {
     "data": {
      "text/plain": "tensor([[6.7382e-10, 1.3297e+22],\n        [3.3089e-09, 6.5191e-10],\n        [3.3855e-06, 1.6997e-04],\n        [1.0514e-05, 4.2657e-08]])"
     },
     "execution_count": 40,
     "metadata": {},
     "output_type": "execute_result"
    }
   ],
   "source": [
    "torch.empty(4,2)"
   ]
  },
  {
   "cell_type": "code",
   "execution_count": 41,
   "id": "cc05de48",
   "metadata": {},
   "outputs": [
    {
     "data": {
      "text/plain": "tensor([[0., 0., 0.],\n        [0., 0., 0.],\n        [0., 0., 0.],\n        [0., 0., 0.]])"
     },
     "execution_count": 41,
     "metadata": {},
     "output_type": "execute_result"
    }
   ],
   "source": [
    "torch.zeros(4,3)"
   ]
  },
  {
   "cell_type": "code",
   "execution_count": 42,
   "id": "83c04c7b",
   "metadata": {},
   "outputs": [
    {
     "data": {
      "text/plain": "tensor([[0, 0, 0],\n        [0, 0, 0],\n        [0, 0, 0],\n        [0, 0, 0]])"
     },
     "execution_count": 42,
     "metadata": {},
     "output_type": "execute_result"
    }
   ],
   "source": [
    "torch.zeros(4,3, dtype=torch.int64)"
   ]
  },
  {
   "cell_type": "code",
   "execution_count": 43,
   "id": "95caa955",
   "metadata": {},
   "outputs": [
    {
     "data": {
      "text/plain": "tensor([[1., 1., 1.],\n        [1., 1., 1.],\n        [1., 1., 1.],\n        [1., 1., 1.]])"
     },
     "execution_count": 43,
     "metadata": {},
     "output_type": "execute_result"
    }
   ],
   "source": [
    "torch.ones(4,3)"
   ]
  },
  {
   "cell_type": "code",
   "execution_count": 44,
   "id": "12cc1aaf",
   "metadata": {},
   "outputs": [],
   "source": [
    "mytensor = torch.tensor([1,2,3,4,5])"
   ]
  },
  {
   "cell_type": "code",
   "execution_count": 45,
   "id": "d111b7f8",
   "metadata": {},
   "outputs": [
    {
     "data": {
      "text/plain": "torch.int64"
     },
     "execution_count": 45,
     "metadata": {},
     "output_type": "execute_result"
    }
   ],
   "source": [
    "mytensor.dtype"
   ]
  },
  {
   "cell_type": "code",
   "execution_count": 46,
   "id": "43f43938",
   "metadata": {},
   "outputs": [],
   "source": [
    "mytensor = mytensor.type(torch.int32)"
   ]
  },
  {
   "cell_type": "code",
   "execution_count": 47,
   "id": "3f65aa4f",
   "metadata": {},
   "outputs": [
    {
     "data": {
      "text/plain": "tensor([1, 2, 3, 4, 5], dtype=torch.int32)"
     },
     "execution_count": 47,
     "metadata": {},
     "output_type": "execute_result"
    }
   ],
   "source": [
    "mytensor"
   ]
  },
  {
   "cell_type": "code",
   "execution_count": 48,
   "id": "aff52bd7",
   "metadata": {},
   "outputs": [
    {
     "data": {
      "text/plain": "tensor([[0.2843, 0.8927, 0.7745],\n        [0.3552, 0.1502, 0.2315],\n        [0.4053, 0.5021, 0.7457],\n        [0.4063, 0.0906, 0.6630]])"
     },
     "execution_count": 48,
     "metadata": {},
     "output_type": "execute_result"
    }
   ],
   "source": [
    "torch.rand(4,3)"
   ]
  },
  {
   "cell_type": "code",
   "execution_count": 49,
   "id": "c9e2e02e",
   "metadata": {},
   "outputs": [
    {
     "data": {
      "text/plain": "tensor([[ 0.5696, -0.5875,  0.2025],\n        [-1.1442, -1.7631,  0.9319],\n        [-0.3758,  0.0674, -0.9360],\n        [-0.3308,  1.3049, -0.0160]])"
     },
     "execution_count": 49,
     "metadata": {},
     "output_type": "execute_result"
    }
   ],
   "source": [
    "torch.randn(4,3)"
   ]
  },
  {
   "cell_type": "code",
   "execution_count": 50,
   "id": "83e699ff",
   "metadata": {},
   "outputs": [
    {
     "data": {
      "text/plain": "tensor([[2, 7, 6, 7, 2],\n        [1, 3, 7, 3, 5],\n        [2, 3, 8, 1, 1],\n        [5, 8, 9, 6, 3],\n        [2, 7, 1, 5, 9]])"
     },
     "execution_count": 50,
     "metadata": {},
     "output_type": "execute_result"
    }
   ],
   "source": [
    "torch.randint(low=1, high=10, size=(5,5))"
   ]
  },
  {
   "cell_type": "code",
   "execution_count": 51,
   "id": "16b4c944",
   "metadata": {},
   "outputs": [],
   "source": [
    "x = torch.zeros(2,5)"
   ]
  },
  {
   "cell_type": "code",
   "execution_count": 52,
   "id": "b88e9e8b",
   "metadata": {},
   "outputs": [
    {
     "data": {
      "text/plain": "tensor([[0., 0., 0., 0., 0.],\n        [0., 0., 0., 0., 0.]])"
     },
     "execution_count": 52,
     "metadata": {},
     "output_type": "execute_result"
    }
   ],
   "source": [
    "x"
   ]
  },
  {
   "cell_type": "code",
   "execution_count": 53,
   "id": "b5068814",
   "metadata": {},
   "outputs": [
    {
     "data": {
      "text/plain": "torch.Size([2, 5])"
     },
     "execution_count": 53,
     "metadata": {},
     "output_type": "execute_result"
    }
   ],
   "source": [
    "x.shape"
   ]
  },
  {
   "cell_type": "code",
   "execution_count": 54,
   "id": "405f6b1a",
   "metadata": {},
   "outputs": [
    {
     "data": {
      "text/plain": "tensor([[0.8407, 0.7926, 0.7047, 0.0535, 0.1829],\n        [0.6756, 0.7230, 0.7332, 0.2854, 0.8452]])"
     },
     "execution_count": 54,
     "metadata": {},
     "output_type": "execute_result"
    }
   ],
   "source": [
    "torch.rand_like(x)"
   ]
  },
  {
   "cell_type": "code",
   "execution_count": 55,
   "id": "f1cfb8df",
   "metadata": {
    "scrolled": false
   },
   "outputs": [
    {
     "data": {
      "text/plain": "tensor([[0.8823, 0.9150, 0.3829],\n        [0.9593, 0.3904, 0.6009]])"
     },
     "execution_count": 55,
     "metadata": {},
     "output_type": "execute_result"
    }
   ],
   "source": [
    "torch.manual_seed(42)\n",
    "torch.rand(2,3)"
   ]
  },
  {
   "cell_type": "code",
   "execution_count": 56,
   "id": "6cb520c7",
   "metadata": {},
   "outputs": [],
   "source": [
    "x=torch.arange(6).reshape(3,2)"
   ]
  },
  {
   "cell_type": "code",
   "execution_count": 57,
   "id": "beb17c39",
   "metadata": {},
   "outputs": [
    {
     "data": {
      "text/plain": "tensor([[0, 1],\n        [2, 3],\n        [4, 5]])"
     },
     "execution_count": 57,
     "metadata": {},
     "output_type": "execute_result"
    }
   ],
   "source": [
    "x"
   ]
  },
  {
   "cell_type": "code",
   "execution_count": 58,
   "id": "0faccbc4",
   "metadata": {},
   "outputs": [
    {
     "data": {
      "text/plain": "tensor(3)"
     },
     "execution_count": 58,
     "metadata": {},
     "output_type": "execute_result"
    }
   ],
   "source": [
    "x[1,1]"
   ]
  },
  {
   "cell_type": "code",
   "execution_count": 59,
   "id": "0ab6c626",
   "metadata": {},
   "outputs": [
    {
     "data": {
      "text/plain": "tensor([1, 3, 5])"
     },
     "execution_count": 59,
     "metadata": {},
     "output_type": "execute_result"
    }
   ],
   "source": [
    "x[:,1]"
   ]
  },
  {
   "cell_type": "code",
   "execution_count": 60,
   "id": "ff0fba94",
   "metadata": {},
   "outputs": [
    {
     "data": {
      "text/plain": "tensor([[1],\n        [3],\n        [5]])"
     },
     "execution_count": 60,
     "metadata": {},
     "output_type": "execute_result"
    }
   ],
   "source": [
    "x[:,1:]"
   ]
  },
  {
   "cell_type": "code",
   "execution_count": 61,
   "id": "9d4bcf67",
   "metadata": {},
   "outputs": [],
   "source": [
    "x = torch.arange(10)"
   ]
  },
  {
   "cell_type": "code",
   "execution_count": 62,
   "id": "e912ba70",
   "metadata": {},
   "outputs": [
    {
     "data": {
      "text/plain": "tensor([0, 1, 2, 3, 4, 5, 6, 7, 8, 9])"
     },
     "execution_count": 62,
     "metadata": {},
     "output_type": "execute_result"
    }
   ],
   "source": [
    "x"
   ]
  },
  {
   "cell_type": "code",
   "execution_count": 63,
   "id": "2aa38200",
   "metadata": {},
   "outputs": [
    {
     "data": {
      "text/plain": "tensor([[0, 1, 2, 3, 4],\n        [5, 6, 7, 8, 9]])"
     },
     "execution_count": 63,
     "metadata": {},
     "output_type": "execute_result"
    }
   ],
   "source": [
    "x.view(2,5)"
   ]
  },
  {
   "cell_type": "code",
   "execution_count": 64,
   "id": "f4f35782",
   "metadata": {},
   "outputs": [
    {
     "data": {
      "text/plain": "tensor([0, 1, 2, 3, 4, 5, 6, 7, 8, 9])"
     },
     "execution_count": 64,
     "metadata": {},
     "output_type": "execute_result"
    }
   ],
   "source": [
    "x"
   ]
  },
  {
   "cell_type": "code",
   "execution_count": 65,
   "id": "f90b852d",
   "metadata": {},
   "outputs": [
    {
     "data": {
      "text/plain": "tensor([[0, 1, 2, 3, 4],\n        [5, 6, 7, 8, 9]])"
     },
     "execution_count": 65,
     "metadata": {},
     "output_type": "execute_result"
    }
   ],
   "source": [
    "x.reshape(2,5)"
   ]
  },
  {
   "cell_type": "code",
   "execution_count": 66,
   "id": "9cfed519",
   "metadata": {},
   "outputs": [
    {
     "data": {
      "text/plain": "tensor([0, 1, 2, 3, 4, 5, 6, 7, 8, 9])"
     },
     "execution_count": 66,
     "metadata": {},
     "output_type": "execute_result"
    }
   ],
   "source": [
    "x"
   ]
  },
  {
   "cell_type": "code",
   "execution_count": 67,
   "id": "1ae3113d",
   "metadata": {},
   "outputs": [
    {
     "data": {
      "text/plain": "torch.Size([10])"
     },
     "execution_count": 67,
     "metadata": {},
     "output_type": "execute_result"
    }
   ],
   "source": [
    "x.shape"
   ]
  },
  {
   "cell_type": "code",
   "execution_count": 68,
   "id": "39409064",
   "metadata": {},
   "outputs": [
    {
     "data": {
      "text/plain": "tensor([0, 1, 2, 3, 4, 5, 6, 7, 8, 9])"
     },
     "execution_count": 68,
     "metadata": {},
     "output_type": "execute_result"
    }
   ],
   "source": [
    "x"
   ]
  },
  {
   "cell_type": "code",
   "execution_count": 69,
   "id": "f8b309ba",
   "metadata": {},
   "outputs": [],
   "source": [
    "z = x.view(2,5)"
   ]
  },
  {
   "cell_type": "code",
   "execution_count": 70,
   "id": "484a6e43",
   "metadata": {},
   "outputs": [],
   "source": [
    "x[0] = 9999"
   ]
  },
  {
   "cell_type": "code",
   "execution_count": 71,
   "id": "7d40ce58",
   "metadata": {},
   "outputs": [
    {
     "data": {
      "text/plain": "tensor([9999,    1,    2,    3,    4,    5,    6,    7,    8,    9])"
     },
     "execution_count": 71,
     "metadata": {},
     "output_type": "execute_result"
    }
   ],
   "source": [
    "x"
   ]
  },
  {
   "cell_type": "code",
   "execution_count": 72,
   "id": "5f32fd3b",
   "metadata": {},
   "outputs": [
    {
     "data": {
      "text/plain": "tensor([[9999,    1,    2,    3,    4],\n        [   5,    6,    7,    8,    9]])"
     },
     "execution_count": 72,
     "metadata": {},
     "output_type": "execute_result"
    }
   ],
   "source": [
    "z"
   ]
  },
  {
   "cell_type": "code",
   "execution_count": 73,
   "id": "11e879f4",
   "metadata": {},
   "outputs": [],
   "source": [
    "x = torch.arange(10)"
   ]
  },
  {
   "cell_type": "code",
   "execution_count": 74,
   "id": "eb25fc02",
   "metadata": {},
   "outputs": [
    {
     "data": {
      "text/plain": "tensor([0, 1, 2, 3, 4, 5, 6, 7, 8, 9])"
     },
     "execution_count": 74,
     "metadata": {},
     "output_type": "execute_result"
    }
   ],
   "source": [
    "x"
   ]
  },
  {
   "cell_type": "code",
   "execution_count": 75,
   "id": "554c1d9f",
   "metadata": {},
   "outputs": [
    {
     "data": {
      "text/plain": "tensor([[0, 1, 2, 3, 4],\n        [5, 6, 7, 8, 9]])"
     },
     "execution_count": 75,
     "metadata": {},
     "output_type": "execute_result"
    }
   ],
   "source": [
    "x.view(2,-1)"
   ]
  },
  {
   "cell_type": "code",
   "execution_count": 76,
   "id": "3f0436c5",
   "metadata": {},
   "outputs": [],
   "source": [
    "a = torch.tensor([1.,2.,3.])"
   ]
  },
  {
   "cell_type": "code",
   "execution_count": 77,
   "id": "6bed4004",
   "metadata": {},
   "outputs": [],
   "source": [
    "b = torch.tensor([4.,5.,6.])"
   ]
  },
  {
   "cell_type": "code",
   "execution_count": 78,
   "id": "fa0193f1",
   "metadata": {},
   "outputs": [
    {
     "data": {
      "text/plain": "tensor([5., 7., 9.])"
     },
     "execution_count": 78,
     "metadata": {},
     "output_type": "execute_result"
    }
   ],
   "source": [
    "a+b"
   ]
  },
  {
   "cell_type": "code",
   "execution_count": 79,
   "id": "625222e3",
   "metadata": {},
   "outputs": [
    {
     "data": {
      "text/plain": "tensor([1., 2., 3.])"
     },
     "execution_count": 79,
     "metadata": {},
     "output_type": "execute_result"
    }
   ],
   "source": [
    "a"
   ]
  },
  {
   "cell_type": "code",
   "execution_count": 80,
   "id": "65e80933",
   "metadata": {},
   "outputs": [
    {
     "data": {
      "text/plain": "tensor([4., 5., 6.])"
     },
     "execution_count": 80,
     "metadata": {},
     "output_type": "execute_result"
    }
   ],
   "source": [
    "b"
   ]
  },
  {
   "cell_type": "code",
   "execution_count": 81,
   "id": "f91c1245",
   "metadata": {},
   "outputs": [
    {
     "data": {
      "text/plain": "tensor([-3., -3., -3.])"
     },
     "execution_count": 81,
     "metadata": {},
     "output_type": "execute_result"
    }
   ],
   "source": [
    "a-b"
   ]
  },
  {
   "cell_type": "code",
   "execution_count": 82,
   "id": "b6afbca7",
   "metadata": {},
   "outputs": [
    {
     "data": {
      "text/plain": "tensor([ 4., 10., 18.])"
     },
     "execution_count": 82,
     "metadata": {},
     "output_type": "execute_result"
    }
   ],
   "source": [
    "a*b"
   ]
  },
  {
   "cell_type": "code",
   "execution_count": 83,
   "id": "fa3241e0",
   "metadata": {},
   "outputs": [
    {
     "data": {
      "text/plain": "tensor([0.2500, 0.4000, 0.5000])"
     },
     "execution_count": 83,
     "metadata": {},
     "output_type": "execute_result"
    }
   ],
   "source": [
    "a/b"
   ]
  },
  {
   "cell_type": "code",
   "execution_count": 84,
   "id": "253b6fd3",
   "metadata": {},
   "outputs": [
    {
     "data": {
      "text/plain": "tensor([0., 0., 0.])"
     },
     "execution_count": 84,
     "metadata": {},
     "output_type": "execute_result"
    }
   ],
   "source": [
    "a//b"
   ]
  },
  {
   "cell_type": "code",
   "execution_count": 85,
   "id": "05013b68",
   "metadata": {},
   "outputs": [
    {
     "data": {
      "text/plain": "tensor([  1.,  32., 729.])"
     },
     "execution_count": 85,
     "metadata": {},
     "output_type": "execute_result"
    }
   ],
   "source": [
    "a**b"
   ]
  },
  {
   "cell_type": "code",
   "execution_count": 86,
   "id": "da0e49be",
   "metadata": {},
   "outputs": [
    {
     "data": {
      "text/plain": "tensor([5., 7., 9.])"
     },
     "execution_count": 86,
     "metadata": {},
     "output_type": "execute_result"
    }
   ],
   "source": [
    "torch.add(a,b)"
   ]
  },
  {
   "cell_type": "code",
   "execution_count": 87,
   "id": "9fce27ed",
   "metadata": {},
   "outputs": [
    {
     "data": {
      "text/plain": "tensor([-3., -3., -3.])"
     },
     "execution_count": 87,
     "metadata": {},
     "output_type": "execute_result"
    }
   ],
   "source": [
    "torch.sub(a,b)"
   ]
  },
  {
   "cell_type": "code",
   "execution_count": 88,
   "id": "d3965aa1",
   "metadata": {},
   "outputs": [
    {
     "data": {
      "text/plain": "tensor([1., 2., 3.])"
     },
     "execution_count": 88,
     "metadata": {},
     "output_type": "execute_result"
    }
   ],
   "source": [
    "a"
   ]
  },
  {
   "cell_type": "code",
   "execution_count": 89,
   "id": "71d8c951",
   "metadata": {},
   "outputs": [
    {
     "data": {
      "text/plain": "tensor([5., 7., 9.])"
     },
     "execution_count": 89,
     "metadata": {},
     "output_type": "execute_result"
    }
   ],
   "source": [
    "a.add_(b)"
   ]
  },
  {
   "cell_type": "code",
   "execution_count": 90,
   "id": "724d6552",
   "metadata": {},
   "outputs": [
    {
     "data": {
      "text/plain": "tensor([5., 7., 9.])"
     },
     "execution_count": 90,
     "metadata": {},
     "output_type": "execute_result"
    }
   ],
   "source": [
    "a"
   ]
  },
  {
   "cell_type": "code",
   "execution_count": 90,
   "id": "ac0e257f",
   "metadata": {},
   "outputs": [],
   "source": []
  },
  {
   "cell_type": "code",
   "execution_count": 90,
   "id": "5f0a4fda",
   "metadata": {},
   "outputs": [],
   "source": []
  },
  {
   "cell_type": "code",
   "execution_count": 90,
   "id": "b0b0282a",
   "metadata": {},
   "outputs": [],
   "source": []
  },
  {
   "cell_type": "code",
   "execution_count": 91,
   "id": "54ae34db",
   "metadata": {},
   "outputs": [],
   "source": [
    "a = torch.tensor([1., 2., 3.])"
   ]
  },
  {
   "cell_type": "code",
   "execution_count": 92,
   "id": "c5745386",
   "metadata": {},
   "outputs": [],
   "source": [
    "b = torch.tensor([4., 5., 6.])"
   ]
  },
  {
   "cell_type": "code",
   "execution_count": 93,
   "id": "8d8df2ac",
   "metadata": {},
   "outputs": [
    {
     "data": {
      "text/plain": "tensor([1., 2., 3.])"
     },
     "execution_count": 93,
     "metadata": {},
     "output_type": "execute_result"
    }
   ],
   "source": [
    "a"
   ]
  },
  {
   "cell_type": "code",
   "execution_count": 94,
   "id": "801a98eb",
   "metadata": {},
   "outputs": [
    {
     "data": {
      "text/plain": "tensor([4., 5., 6.])"
     },
     "execution_count": 94,
     "metadata": {},
     "output_type": "execute_result"
    }
   ],
   "source": [
    "b"
   ]
  },
  {
   "cell_type": "code",
   "execution_count": 95,
   "id": "badb1c3e",
   "metadata": {},
   "outputs": [
    {
     "data": {
      "text/plain": "tensor([ 4., 10., 18.])"
     },
     "execution_count": 95,
     "metadata": {},
     "output_type": "execute_result"
    }
   ],
   "source": [
    "a*b"
   ]
  },
  {
   "cell_type": "code",
   "execution_count": 96,
   "id": "6b024aed",
   "metadata": {},
   "outputs": [
    {
     "data": {
      "text/plain": "tensor(32.)"
     },
     "execution_count": 96,
     "metadata": {},
     "output_type": "execute_result"
    }
   ],
   "source": [
    "a.dot(b)"
   ]
  },
  {
   "cell_type": "code",
   "execution_count": 97,
   "id": "978bb38e",
   "metadata": {},
   "outputs": [],
   "source": [
    "a = torch.tensor([[0,2,4],[1,3,5]])"
   ]
  },
  {
   "cell_type": "code",
   "execution_count": 98,
   "id": "35e4a8db",
   "metadata": {},
   "outputs": [],
   "source": [
    "b = torch.tensor([[6,7],[8,9],[10,11]])"
   ]
  },
  {
   "cell_type": "code",
   "execution_count": 99,
   "id": "64a4f7a9",
   "metadata": {},
   "outputs": [
    {
     "data": {
      "text/plain": "tensor([[0, 2, 4],\n        [1, 3, 5]])"
     },
     "execution_count": 99,
     "metadata": {},
     "output_type": "execute_result"
    }
   ],
   "source": [
    "a"
   ]
  },
  {
   "cell_type": "code",
   "execution_count": 100,
   "id": "8fc3e730",
   "metadata": {},
   "outputs": [
    {
     "data": {
      "text/plain": "tensor([[ 6,  7],\n        [ 8,  9],\n        [10, 11]])"
     },
     "execution_count": 100,
     "metadata": {},
     "output_type": "execute_result"
    }
   ],
   "source": [
    "b"
   ]
  },
  {
   "cell_type": "code",
   "execution_count": 101,
   "id": "07b75982",
   "metadata": {},
   "outputs": [
    {
     "data": {
      "text/plain": "torch.Size([2, 3])"
     },
     "execution_count": 101,
     "metadata": {},
     "output_type": "execute_result"
    }
   ],
   "source": [
    "a.shape"
   ]
  },
  {
   "cell_type": "code",
   "execution_count": 102,
   "id": "b95f5c52",
   "metadata": {},
   "outputs": [
    {
     "data": {
      "text/plain": "torch.Size([3, 2])"
     },
     "execution_count": 102,
     "metadata": {},
     "output_type": "execute_result"
    }
   ],
   "source": [
    "b.shape"
   ]
  },
  {
   "cell_type": "code",
   "execution_count": 103,
   "id": "4c4c0d91",
   "metadata": {},
   "outputs": [
    {
     "data": {
      "text/plain": "tensor([[56, 62],\n        [80, 89]])"
     },
     "execution_count": 103,
     "metadata": {},
     "output_type": "execute_result"
    }
   ],
   "source": [
    "torch.mm(a,b)"
   ]
  },
  {
   "cell_type": "code",
   "execution_count": 104,
   "id": "19a3e953",
   "metadata": {},
   "outputs": [
    {
     "data": {
      "text/plain": "tensor([[56, 62],\n        [80, 89]])"
     },
     "execution_count": 104,
     "metadata": {},
     "output_type": "execute_result"
    }
   ],
   "source": [
    "a @ b"
   ]
  },
  {
   "cell_type": "code",
   "execution_count": 105,
   "id": "8141cd57",
   "metadata": {},
   "outputs": [],
   "source": [
    "x = torch.tensor([2., 3., 4., 5.])"
   ]
  },
  {
   "cell_type": "code",
   "execution_count": 106,
   "id": "ee1de994",
   "metadata": {},
   "outputs": [
    {
     "data": {
      "text/plain": "tensor([2., 3., 4., 5.])"
     },
     "execution_count": 106,
     "metadata": {},
     "output_type": "execute_result"
    }
   ],
   "source": [
    "x"
   ]
  },
  {
   "cell_type": "code",
   "execution_count": 107,
   "id": "3bd1125b",
   "metadata": {},
   "outputs": [
    {
     "data": {
      "text/plain": "tensor(7.3485)"
     },
     "execution_count": 107,
     "metadata": {},
     "output_type": "execute_result"
    }
   ],
   "source": [
    "x.norm()"
   ]
  },
  {
   "cell_type": "code",
   "execution_count": 108,
   "id": "b49a7a0e",
   "metadata": {},
   "outputs": [
    {
     "data": {
      "text/plain": "4"
     },
     "execution_count": 108,
     "metadata": {},
     "output_type": "execute_result"
    }
   ],
   "source": [
    "x.numel()"
   ]
  },
  {
   "cell_type": "code",
   "execution_count": 109,
   "id": "4bf6079f",
   "metadata": {},
   "outputs": [
    {
     "data": {
      "text/plain": "4"
     },
     "execution_count": 109,
     "metadata": {},
     "output_type": "execute_result"
    }
   ],
   "source": [
    "len(x)"
   ]
  },
  {
   "cell_type": "code",
   "execution_count": 110,
   "id": "165b292c",
   "metadata": {},
   "outputs": [
    {
     "data": {
      "text/plain": "2"
     },
     "execution_count": 110,
     "metadata": {},
     "output_type": "execute_result"
    }
   ],
   "source": [
    "len(a)"
   ]
  },
  {
   "cell_type": "code",
   "execution_count": 111,
   "id": "7b8a6e33",
   "metadata": {},
   "outputs": [
    {
     "data": {
      "text/plain": "6"
     },
     "execution_count": 111,
     "metadata": {},
     "output_type": "execute_result"
    }
   ],
   "source": [
    "a.numel()"
   ]
  },
  {
   "cell_type": "code",
   "execution_count": 111,
   "id": "629ed63a",
   "metadata": {},
   "outputs": [],
   "source": []
  }
 ],
 "metadata": {
  "kernelspec": {
   "display_name": "Python 3 (ipykernel)",
   "language": "python",
   "name": "python3"
  },
  "language_info": {
   "codemirror_mode": {
    "name": "ipython",
    "version": 3
   },
   "file_extension": ".py",
   "mimetype": "text/x-python",
   "name": "python",
   "nbconvert_exporter": "python",
   "pygments_lexer": "ipython3",
   "version": "3.7.3"
  }
 },
 "nbformat": 4,
 "nbformat_minor": 5
}