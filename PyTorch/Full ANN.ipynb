{
 "cells": [
  {
   "cell_type": "code",
   "execution_count": 1,
   "outputs": [],
   "source": [
    "from abc import ABC\n",
    "\n",
    "import torch\n",
    "import torch.nn as nn\n",
    "\n",
    "import numpy as np\n",
    "import pandas as pd\n",
    "import matplotlib.pyplot as plt"
   ],
   "metadata": {
    "collapsed": false,
    "pycharm": {
     "name": "#%%\n"
    }
   }
  },
  {
   "cell_type": "code",
   "execution_count": 2,
   "outputs": [],
   "source": [
    "df = pd.read_csv(r\"C:\\AnCodeRR\\PYTORCH_NOTEBOOKS\\Data\\NYCTaxiFares.csv\")"
   ],
   "metadata": {
    "collapsed": false,
    "pycharm": {
     "name": "#%%\n"
    }
   }
  },
  {
   "cell_type": "code",
   "execution_count": 3,
   "outputs": [
    {
     "data": {
      "text/plain": "           pickup_datetime  fare_amount  fare_class  pickup_longitude  \\\n0  2010-04-19 08:17:56 UTC          6.5           0        -73.992365   \n1  2010-04-17 15:43:53 UTC          6.9           0        -73.990078   \n2  2010-04-17 11:23:26 UTC         10.1           1        -73.994149   \n3  2010-04-11 21:25:03 UTC          8.9           0        -73.990485   \n4  2010-04-17 02:19:01 UTC         19.7           1        -73.990976   \n\n   pickup_latitude  dropoff_longitude  dropoff_latitude  passenger_count  \n0        40.730521         -73.975499         40.744746                1  \n1        40.740558         -73.974232         40.744114                1  \n2        40.751118         -73.960064         40.766235                2  \n3        40.756422         -73.971205         40.748192                1  \n4        40.734202         -73.905956         40.743115                1  ",
      "text/html": "<div>\n<style scoped>\n    .dataframe tbody tr th:only-of-type {\n        vertical-align: middle;\n    }\n\n    .dataframe tbody tr th {\n        vertical-align: top;\n    }\n\n    .dataframe thead th {\n        text-align: right;\n    }\n</style>\n<table border=\"1\" class=\"dataframe\">\n  <thead>\n    <tr style=\"text-align: right;\">\n      <th></th>\n      <th>pickup_datetime</th>\n      <th>fare_amount</th>\n      <th>fare_class</th>\n      <th>pickup_longitude</th>\n      <th>pickup_latitude</th>\n      <th>dropoff_longitude</th>\n      <th>dropoff_latitude</th>\n      <th>passenger_count</th>\n    </tr>\n  </thead>\n  <tbody>\n    <tr>\n      <th>0</th>\n      <td>2010-04-19 08:17:56 UTC</td>\n      <td>6.5</td>\n      <td>0</td>\n      <td>-73.992365</td>\n      <td>40.730521</td>\n      <td>-73.975499</td>\n      <td>40.744746</td>\n      <td>1</td>\n    </tr>\n    <tr>\n      <th>1</th>\n      <td>2010-04-17 15:43:53 UTC</td>\n      <td>6.9</td>\n      <td>0</td>\n      <td>-73.990078</td>\n      <td>40.740558</td>\n      <td>-73.974232</td>\n      <td>40.744114</td>\n      <td>1</td>\n    </tr>\n    <tr>\n      <th>2</th>\n      <td>2010-04-17 11:23:26 UTC</td>\n      <td>10.1</td>\n      <td>1</td>\n      <td>-73.994149</td>\n      <td>40.751118</td>\n      <td>-73.960064</td>\n      <td>40.766235</td>\n      <td>2</td>\n    </tr>\n    <tr>\n      <th>3</th>\n      <td>2010-04-11 21:25:03 UTC</td>\n      <td>8.9</td>\n      <td>0</td>\n      <td>-73.990485</td>\n      <td>40.756422</td>\n      <td>-73.971205</td>\n      <td>40.748192</td>\n      <td>1</td>\n    </tr>\n    <tr>\n      <th>4</th>\n      <td>2010-04-17 02:19:01 UTC</td>\n      <td>19.7</td>\n      <td>1</td>\n      <td>-73.990976</td>\n      <td>40.734202</td>\n      <td>-73.905956</td>\n      <td>40.743115</td>\n      <td>1</td>\n    </tr>\n  </tbody>\n</table>\n</div>"
     },
     "execution_count": 3,
     "metadata": {},
     "output_type": "execute_result"
    }
   ],
   "source": [
    "df.head()"
   ],
   "metadata": {
    "collapsed": false,
    "pycharm": {
     "name": "#%%\n"
    }
   }
  },
  {
   "cell_type": "code",
   "execution_count": 4,
   "outputs": [
    {
     "data": {
      "text/plain": "count    120000.000000\nmean         10.040326\nstd           7.500134\nmin           2.500000\n25%           5.700000\n50%           7.700000\n75%          11.300000\nmax          49.900000\nName: fare_amount, dtype: float64"
     },
     "execution_count": 4,
     "metadata": {},
     "output_type": "execute_result"
    }
   ],
   "source": [
    "df['fare_amount'].describe()"
   ],
   "metadata": {
    "collapsed": false,
    "pycharm": {
     "name": "#%%\n"
    }
   }
  },
  {
   "cell_type": "code",
   "execution_count": 5,
   "outputs": [],
   "source": [
    "def haversine_distance(df, lat1, long1, lat2, long2):\n",
    "    \"\"\"\n",
    "    Calculates the haversine distance between 2 sets of GPS coordinates in df\n",
    "    \"\"\"\n",
    "    r = 6371  # average radius of Earth in kilometers\n",
    "\n",
    "    phi1 = np.radians(df[lat1])\n",
    "    phi2 = np.radians(df[lat2])\n",
    "\n",
    "    delta_phi = np.radians(df[lat2]-df[lat1])\n",
    "    delta_lambda = np.radians(df[long2]-df[long1])\n",
    "\n",
    "    a = np.sin(delta_phi/2)**2 + np.cos(phi1) * np.cos(phi2) * np.sin(delta_lambda/2)**2\n",
    "    c = 2 * np.arctan2(np.sqrt(a), np.sqrt(1-a))\n",
    "    d = (r * c) # in kilometers\n",
    "\n",
    "    return d"
   ],
   "metadata": {
    "collapsed": false,
    "pycharm": {
     "name": "#%%\n"
    }
   }
  },
  {
   "cell_type": "code",
   "execution_count": 6,
   "outputs": [
    {
     "data": {
      "text/plain": "Index(['pickup_datetime', 'fare_amount', 'fare_class', 'pickup_longitude',\n       'pickup_latitude', 'dropoff_longitude', 'dropoff_latitude',\n       'passenger_count'],\n      dtype='object')"
     },
     "execution_count": 6,
     "metadata": {},
     "output_type": "execute_result"
    }
   ],
   "source": [
    "df.columns"
   ],
   "metadata": {
    "collapsed": false,
    "pycharm": {
     "name": "#%%\n"
    }
   }
  },
  {
   "cell_type": "code",
   "execution_count": 7,
   "outputs": [],
   "source": [
    "df['dist_km'] = haversine_distance(df, 'pickup_latitude','pickup_longitude','dropoff_latitude', 'dropoff_longitude')"
   ],
   "metadata": {
    "collapsed": false,
    "pycharm": {
     "name": "#%%\n"
    }
   }
  },
  {
   "cell_type": "code",
   "execution_count": 8,
   "outputs": [
    {
     "data": {
      "text/plain": "           pickup_datetime  fare_amount  fare_class  pickup_longitude  \\\n0  2010-04-19 08:17:56 UTC          6.5           0        -73.992365   \n1  2010-04-17 15:43:53 UTC          6.9           0        -73.990078   \n2  2010-04-17 11:23:26 UTC         10.1           1        -73.994149   \n3  2010-04-11 21:25:03 UTC          8.9           0        -73.990485   \n4  2010-04-17 02:19:01 UTC         19.7           1        -73.990976   \n\n   pickup_latitude  dropoff_longitude  dropoff_latitude  passenger_count  \\\n0        40.730521         -73.975499         40.744746                1   \n1        40.740558         -73.974232         40.744114                1   \n2        40.751118         -73.960064         40.766235                2   \n3        40.756422         -73.971205         40.748192                1   \n4        40.734202         -73.905956         40.743115                1   \n\n    dist_km  \n0  2.126312  \n1  1.392307  \n2  3.326763  \n3  1.864129  \n4  7.231321  ",
      "text/html": "<div>\n<style scoped>\n    .dataframe tbody tr th:only-of-type {\n        vertical-align: middle;\n    }\n\n    .dataframe tbody tr th {\n        vertical-align: top;\n    }\n\n    .dataframe thead th {\n        text-align: right;\n    }\n</style>\n<table border=\"1\" class=\"dataframe\">\n  <thead>\n    <tr style=\"text-align: right;\">\n      <th></th>\n      <th>pickup_datetime</th>\n      <th>fare_amount</th>\n      <th>fare_class</th>\n      <th>pickup_longitude</th>\n      <th>pickup_latitude</th>\n      <th>dropoff_longitude</th>\n      <th>dropoff_latitude</th>\n      <th>passenger_count</th>\n      <th>dist_km</th>\n    </tr>\n  </thead>\n  <tbody>\n    <tr>\n      <th>0</th>\n      <td>2010-04-19 08:17:56 UTC</td>\n      <td>6.5</td>\n      <td>0</td>\n      <td>-73.992365</td>\n      <td>40.730521</td>\n      <td>-73.975499</td>\n      <td>40.744746</td>\n      <td>1</td>\n      <td>2.126312</td>\n    </tr>\n    <tr>\n      <th>1</th>\n      <td>2010-04-17 15:43:53 UTC</td>\n      <td>6.9</td>\n      <td>0</td>\n      <td>-73.990078</td>\n      <td>40.740558</td>\n      <td>-73.974232</td>\n      <td>40.744114</td>\n      <td>1</td>\n      <td>1.392307</td>\n    </tr>\n    <tr>\n      <th>2</th>\n      <td>2010-04-17 11:23:26 UTC</td>\n      <td>10.1</td>\n      <td>1</td>\n      <td>-73.994149</td>\n      <td>40.751118</td>\n      <td>-73.960064</td>\n      <td>40.766235</td>\n      <td>2</td>\n      <td>3.326763</td>\n    </tr>\n    <tr>\n      <th>3</th>\n      <td>2010-04-11 21:25:03 UTC</td>\n      <td>8.9</td>\n      <td>0</td>\n      <td>-73.990485</td>\n      <td>40.756422</td>\n      <td>-73.971205</td>\n      <td>40.748192</td>\n      <td>1</td>\n      <td>1.864129</td>\n    </tr>\n    <tr>\n      <th>4</th>\n      <td>2010-04-17 02:19:01 UTC</td>\n      <td>19.7</td>\n      <td>1</td>\n      <td>-73.990976</td>\n      <td>40.734202</td>\n      <td>-73.905956</td>\n      <td>40.743115</td>\n      <td>1</td>\n      <td>7.231321</td>\n    </tr>\n  </tbody>\n</table>\n</div>"
     },
     "execution_count": 8,
     "metadata": {},
     "output_type": "execute_result"
    }
   ],
   "source": [
    "df.head()"
   ],
   "metadata": {
    "collapsed": false,
    "pycharm": {
     "name": "#%%\n"
    }
   }
  },
  {
   "cell_type": "code",
   "execution_count": 9,
   "outputs": [],
   "source": [
    "df['pickup_datetime'] = pd.to_datetime(df['pickup_datetime'])"
   ],
   "metadata": {
    "collapsed": false,
    "pycharm": {
     "name": "#%%\n"
    }
   }
  },
  {
   "cell_type": "code",
   "execution_count": 10,
   "outputs": [
    {
     "name": "stdout",
     "output_type": "stream",
     "text": [
      "<class 'pandas.core.frame.DataFrame'>\n",
      "RangeIndex: 120000 entries, 0 to 119999\n",
      "Data columns (total 9 columns):\n",
      "pickup_datetime      120000 non-null datetime64[ns, UTC]\n",
      "fare_amount          120000 non-null float64\n",
      "fare_class           120000 non-null int64\n",
      "pickup_longitude     120000 non-null float64\n",
      "pickup_latitude      120000 non-null float64\n",
      "dropoff_longitude    120000 non-null float64\n",
      "dropoff_latitude     120000 non-null float64\n",
      "passenger_count      120000 non-null int64\n",
      "dist_km              120000 non-null float64\n",
      "dtypes: datetime64[ns, UTC](1), float64(6), int64(2)\n",
      "memory usage: 8.2 MB\n"
     ]
    }
   ],
   "source": [
    "df.info()"
   ],
   "metadata": {
    "collapsed": false,
    "pycharm": {
     "name": "#%%\n"
    }
   }
  },
  {
   "cell_type": "code",
   "execution_count": 11,
   "outputs": [
    {
     "data": {
      "text/plain": "            pickup_datetime  fare_amount  fare_class  pickup_longitude  \\\n0 2010-04-19 08:17:56+00:00          6.5           0        -73.992365   \n1 2010-04-17 15:43:53+00:00          6.9           0        -73.990078   \n2 2010-04-17 11:23:26+00:00         10.1           1        -73.994149   \n3 2010-04-11 21:25:03+00:00          8.9           0        -73.990485   \n4 2010-04-17 02:19:01+00:00         19.7           1        -73.990976   \n\n   pickup_latitude  dropoff_longitude  dropoff_latitude  passenger_count  \\\n0        40.730521         -73.975499         40.744746                1   \n1        40.740558         -73.974232         40.744114                1   \n2        40.751118         -73.960064         40.766235                2   \n3        40.756422         -73.971205         40.748192                1   \n4        40.734202         -73.905956         40.743115                1   \n\n    dist_km  \n0  2.126312  \n1  1.392307  \n2  3.326763  \n3  1.864129  \n4  7.231321  ",
      "text/html": "<div>\n<style scoped>\n    .dataframe tbody tr th:only-of-type {\n        vertical-align: middle;\n    }\n\n    .dataframe tbody tr th {\n        vertical-align: top;\n    }\n\n    .dataframe thead th {\n        text-align: right;\n    }\n</style>\n<table border=\"1\" class=\"dataframe\">\n  <thead>\n    <tr style=\"text-align: right;\">\n      <th></th>\n      <th>pickup_datetime</th>\n      <th>fare_amount</th>\n      <th>fare_class</th>\n      <th>pickup_longitude</th>\n      <th>pickup_latitude</th>\n      <th>dropoff_longitude</th>\n      <th>dropoff_latitude</th>\n      <th>passenger_count</th>\n      <th>dist_km</th>\n    </tr>\n  </thead>\n  <tbody>\n    <tr>\n      <th>0</th>\n      <td>2010-04-19 08:17:56+00:00</td>\n      <td>6.5</td>\n      <td>0</td>\n      <td>-73.992365</td>\n      <td>40.730521</td>\n      <td>-73.975499</td>\n      <td>40.744746</td>\n      <td>1</td>\n      <td>2.126312</td>\n    </tr>\n    <tr>\n      <th>1</th>\n      <td>2010-04-17 15:43:53+00:00</td>\n      <td>6.9</td>\n      <td>0</td>\n      <td>-73.990078</td>\n      <td>40.740558</td>\n      <td>-73.974232</td>\n      <td>40.744114</td>\n      <td>1</td>\n      <td>1.392307</td>\n    </tr>\n    <tr>\n      <th>2</th>\n      <td>2010-04-17 11:23:26+00:00</td>\n      <td>10.1</td>\n      <td>1</td>\n      <td>-73.994149</td>\n      <td>40.751118</td>\n      <td>-73.960064</td>\n      <td>40.766235</td>\n      <td>2</td>\n      <td>3.326763</td>\n    </tr>\n    <tr>\n      <th>3</th>\n      <td>2010-04-11 21:25:03+00:00</td>\n      <td>8.9</td>\n      <td>0</td>\n      <td>-73.990485</td>\n      <td>40.756422</td>\n      <td>-73.971205</td>\n      <td>40.748192</td>\n      <td>1</td>\n      <td>1.864129</td>\n    </tr>\n    <tr>\n      <th>4</th>\n      <td>2010-04-17 02:19:01+00:00</td>\n      <td>19.7</td>\n      <td>1</td>\n      <td>-73.990976</td>\n      <td>40.734202</td>\n      <td>-73.905956</td>\n      <td>40.743115</td>\n      <td>1</td>\n      <td>7.231321</td>\n    </tr>\n  </tbody>\n</table>\n</div>"
     },
     "execution_count": 11,
     "metadata": {},
     "output_type": "execute_result"
    }
   ],
   "source": [
    "df.head()"
   ],
   "metadata": {
    "collapsed": false,
    "pycharm": {
     "name": "#%%\n"
    }
   }
  },
  {
   "cell_type": "code",
   "execution_count": 12,
   "outputs": [
    {
     "data": {
      "text/plain": "0        2010-04-19 08:17:56+00:00\n1        2010-04-17 15:43:53+00:00\n2        2010-04-17 11:23:26+00:00\n3        2010-04-11 21:25:03+00:00\n4        2010-04-17 02:19:01+00:00\n5        2010-04-22 08:39:47+00:00\n6        2010-04-23 19:27:00+00:00\n7        2010-04-15 09:03:37+00:00\n8        2010-04-20 08:58:00+00:00\n9        2010-04-16 18:50:16+00:00\n10       2010-04-22 22:26:23+00:00\n11       2010-04-15 17:40:18+00:00\n12       2010-04-23 12:12:08+00:00\n13       2010-04-18 02:35:26+00:00\n14       2010-04-21 10:12:59+00:00\n15       2010-04-20 23:31:17+00:00\n16       2010-04-15 21:54:26+00:00\n17       2010-04-15 08:55:51+00:00\n18       2010-04-14 23:12:52+00:00\n19       2010-04-14 01:22:00+00:00\n20       2010-04-20 11:27:29+00:00\n21       2010-04-12 09:37:56+00:00\n22       2010-04-13 13:55:05+00:00\n23       2010-04-20 16:33:00+00:00\n24       2010-04-21 14:03:52+00:00\n25       2010-04-24 09:16:19+00:00\n26       2010-04-11 21:38:28+00:00\n27       2010-04-22 23:36:50+00:00\n28       2010-04-23 19:11:42+00:00\n29       2010-04-20 22:21:56+00:00\n                    ...           \n119970   2010-04-11 15:21:20+00:00\n119971   2010-04-15 23:16:04+00:00\n119972   2010-04-23 07:08:53+00:00\n119973   2010-04-18 02:00:11+00:00\n119974   2010-04-17 06:14:00+00:00\n119975   2010-04-13 17:40:09+00:00\n119976   2010-04-20 20:04:15+00:00\n119977   2010-04-13 06:30:42+00:00\n119978   2010-04-11 20:35:50+00:00\n119979   2010-04-21 10:55:56+00:00\n119980   2010-04-21 05:40:00+00:00\n119981   2010-04-22 13:07:57+00:00\n119982   2010-04-21 17:33:42+00:00\n119983   2010-04-21 21:07:20+00:00\n119984   2010-04-16 17:34:32+00:00\n119985   2010-04-12 16:22:55+00:00\n119986   2010-04-23 23:55:34+00:00\n119987   2010-04-12 10:26:35+00:00\n119988   2010-04-11 12:41:49+00:00\n119989   2010-04-17 19:19:19+00:00\n119990   2010-04-18 14:59:44+00:00\n119991   2010-04-12 16:43:37+00:00\n119992   2010-04-16 08:39:43+00:00\n119993   2010-04-12 11:38:57+00:00\n119994   2010-04-18 21:42:38+00:00\n119995   2010-04-18 14:33:03+00:00\n119996   2010-04-23 10:27:48+00:00\n119997   2010-04-18 18:50:40+00:00\n119998   2010-04-13 08:14:44+00:00\n119999   2010-04-17 16:00:14+00:00\nName: pickup_datetime, Length: 120000, dtype: datetime64[ns, UTC]"
     },
     "execution_count": 12,
     "metadata": {},
     "output_type": "execute_result"
    }
   ],
   "source": [
    "df['pickup_datetime']"
   ],
   "metadata": {
    "collapsed": false,
    "pycharm": {
     "name": "#%%\n"
    }
   }
  },
  {
   "cell_type": "code",
   "source": [
    "my_time = df['pickup_datetime'][0]"
   ],
   "metadata": {
    "collapsed": false,
    "pycharm": {
     "name": "#%%\n"
    }
   },
   "execution_count": 13,
   "outputs": []
  },
  {
   "cell_type": "code",
   "source": [
    "my_time"
   ],
   "metadata": {
    "collapsed": false,
    "pycharm": {
     "name": "#%%\n"
    }
   },
   "execution_count": 14,
   "outputs": [
    {
     "data": {
      "text/plain": "Timestamp('2010-04-19 08:17:56+0000', tz='UTC')"
     },
     "execution_count": 14,
     "metadata": {},
     "output_type": "execute_result"
    }
   ]
  },
  {
   "cell_type": "code",
   "execution_count": 15,
   "outputs": [
    {
     "data": {
      "text/plain": "pandas._libs.tslibs.timestamps.Timestamp"
     },
     "execution_count": 15,
     "metadata": {},
     "output_type": "execute_result"
    }
   ],
   "source": [
    "type(my_time)"
   ],
   "metadata": {
    "collapsed": false,
    "pycharm": {
     "name": "#%%\n"
    }
   }
  },
  {
   "cell_type": "code",
   "execution_count": 16,
   "outputs": [
    {
     "data": {
      "text/plain": "8"
     },
     "execution_count": 16,
     "metadata": {},
     "output_type": "execute_result"
    }
   ],
   "source": [
    "my_time.hour"
   ],
   "metadata": {
    "collapsed": false,
    "pycharm": {
     "name": "#%%\n"
    }
   }
  },
  {
   "cell_type": "code",
   "execution_count": 17,
   "outputs": [],
   "source": [
    "df['EDTdate'] = df['pickup_datetime'] - pd.Timedelta(hours=4)"
   ],
   "metadata": {
    "collapsed": false,
    "pycharm": {
     "name": "#%%\n"
    }
   }
  },
  {
   "cell_type": "code",
   "execution_count": 18,
   "outputs": [],
   "source": [
    "df['Hour'] = df['EDTdate'].dt.hour"
   ],
   "metadata": {
    "collapsed": false,
    "pycharm": {
     "name": "#%%\n"
    }
   }
  },
  {
   "cell_type": "code",
   "execution_count": 19,
   "outputs": [],
   "source": [
    "df['AMorPM'] = np.where(df['Hour'] < 12, 'am', 'pm')"
   ],
   "metadata": {
    "collapsed": false,
    "pycharm": {
     "name": "#%%\n"
    }
   }
  },
  {
   "cell_type": "code",
   "execution_count": 20,
   "outputs": [
    {
     "data": {
      "text/plain": "            pickup_datetime  fare_amount  fare_class  pickup_longitude  \\\n0 2010-04-19 08:17:56+00:00          6.5           0        -73.992365   \n1 2010-04-17 15:43:53+00:00          6.9           0        -73.990078   \n2 2010-04-17 11:23:26+00:00         10.1           1        -73.994149   \n3 2010-04-11 21:25:03+00:00          8.9           0        -73.990485   \n4 2010-04-17 02:19:01+00:00         19.7           1        -73.990976   \n\n   pickup_latitude  dropoff_longitude  dropoff_latitude  passenger_count  \\\n0        40.730521         -73.975499         40.744746                1   \n1        40.740558         -73.974232         40.744114                1   \n2        40.751118         -73.960064         40.766235                2   \n3        40.756422         -73.971205         40.748192                1   \n4        40.734202         -73.905956         40.743115                1   \n\n    dist_km                   EDTdate  Hour AMorPM  \n0  2.126312 2010-04-19 04:17:56+00:00     4     am  \n1  1.392307 2010-04-17 11:43:53+00:00    11     am  \n2  3.326763 2010-04-17 07:23:26+00:00     7     am  \n3  1.864129 2010-04-11 17:25:03+00:00    17     pm  \n4  7.231321 2010-04-16 22:19:01+00:00    22     pm  ",
      "text/html": "<div>\n<style scoped>\n    .dataframe tbody tr th:only-of-type {\n        vertical-align: middle;\n    }\n\n    .dataframe tbody tr th {\n        vertical-align: top;\n    }\n\n    .dataframe thead th {\n        text-align: right;\n    }\n</style>\n<table border=\"1\" class=\"dataframe\">\n  <thead>\n    <tr style=\"text-align: right;\">\n      <th></th>\n      <th>pickup_datetime</th>\n      <th>fare_amount</th>\n      <th>fare_class</th>\n      <th>pickup_longitude</th>\n      <th>pickup_latitude</th>\n      <th>dropoff_longitude</th>\n      <th>dropoff_latitude</th>\n      <th>passenger_count</th>\n      <th>dist_km</th>\n      <th>EDTdate</th>\n      <th>Hour</th>\n      <th>AMorPM</th>\n    </tr>\n  </thead>\n  <tbody>\n    <tr>\n      <th>0</th>\n      <td>2010-04-19 08:17:56+00:00</td>\n      <td>6.5</td>\n      <td>0</td>\n      <td>-73.992365</td>\n      <td>40.730521</td>\n      <td>-73.975499</td>\n      <td>40.744746</td>\n      <td>1</td>\n      <td>2.126312</td>\n      <td>2010-04-19 04:17:56+00:00</td>\n      <td>4</td>\n      <td>am</td>\n    </tr>\n    <tr>\n      <th>1</th>\n      <td>2010-04-17 15:43:53+00:00</td>\n      <td>6.9</td>\n      <td>0</td>\n      <td>-73.990078</td>\n      <td>40.740558</td>\n      <td>-73.974232</td>\n      <td>40.744114</td>\n      <td>1</td>\n      <td>1.392307</td>\n      <td>2010-04-17 11:43:53+00:00</td>\n      <td>11</td>\n      <td>am</td>\n    </tr>\n    <tr>\n      <th>2</th>\n      <td>2010-04-17 11:23:26+00:00</td>\n      <td>10.1</td>\n      <td>1</td>\n      <td>-73.994149</td>\n      <td>40.751118</td>\n      <td>-73.960064</td>\n      <td>40.766235</td>\n      <td>2</td>\n      <td>3.326763</td>\n      <td>2010-04-17 07:23:26+00:00</td>\n      <td>7</td>\n      <td>am</td>\n    </tr>\n    <tr>\n      <th>3</th>\n      <td>2010-04-11 21:25:03+00:00</td>\n      <td>8.9</td>\n      <td>0</td>\n      <td>-73.990485</td>\n      <td>40.756422</td>\n      <td>-73.971205</td>\n      <td>40.748192</td>\n      <td>1</td>\n      <td>1.864129</td>\n      <td>2010-04-11 17:25:03+00:00</td>\n      <td>17</td>\n      <td>pm</td>\n    </tr>\n    <tr>\n      <th>4</th>\n      <td>2010-04-17 02:19:01+00:00</td>\n      <td>19.7</td>\n      <td>1</td>\n      <td>-73.990976</td>\n      <td>40.734202</td>\n      <td>-73.905956</td>\n      <td>40.743115</td>\n      <td>1</td>\n      <td>7.231321</td>\n      <td>2010-04-16 22:19:01+00:00</td>\n      <td>22</td>\n      <td>pm</td>\n    </tr>\n  </tbody>\n</table>\n</div>"
     },
     "execution_count": 20,
     "metadata": {},
     "output_type": "execute_result"
    }
   ],
   "source": [
    "df.head()"
   ],
   "metadata": {
    "collapsed": false,
    "pycharm": {
     "name": "#%%\n"
    }
   }
  },
  {
   "cell_type": "code",
   "execution_count": 21,
   "outputs": [],
   "source": [
    "df['Weekday'] = df['EDTdate'].dt.strftime('%a')\n",
    "# df['Weekday'] = df['EDTdate'].dt.dayofweek # This gives us day of week as the number"
   ],
   "metadata": {
    "collapsed": false,
    "pycharm": {
     "name": "#%%\n"
    }
   }
  },
  {
   "cell_type": "code",
   "execution_count": 22,
   "outputs": [
    {
     "data": {
      "text/plain": "            pickup_datetime  fare_amount  fare_class  pickup_longitude  \\\n0 2010-04-19 08:17:56+00:00          6.5           0        -73.992365   \n1 2010-04-17 15:43:53+00:00          6.9           0        -73.990078   \n2 2010-04-17 11:23:26+00:00         10.1           1        -73.994149   \n3 2010-04-11 21:25:03+00:00          8.9           0        -73.990485   \n4 2010-04-17 02:19:01+00:00         19.7           1        -73.990976   \n\n   pickup_latitude  dropoff_longitude  dropoff_latitude  passenger_count  \\\n0        40.730521         -73.975499         40.744746                1   \n1        40.740558         -73.974232         40.744114                1   \n2        40.751118         -73.960064         40.766235                2   \n3        40.756422         -73.971205         40.748192                1   \n4        40.734202         -73.905956         40.743115                1   \n\n    dist_km                   EDTdate  Hour AMorPM Weekday  \n0  2.126312 2010-04-19 04:17:56+00:00     4     am     Mon  \n1  1.392307 2010-04-17 11:43:53+00:00    11     am     Sat  \n2  3.326763 2010-04-17 07:23:26+00:00     7     am     Sat  \n3  1.864129 2010-04-11 17:25:03+00:00    17     pm     Sun  \n4  7.231321 2010-04-16 22:19:01+00:00    22     pm     Fri  ",
      "text/html": "<div>\n<style scoped>\n    .dataframe tbody tr th:only-of-type {\n        vertical-align: middle;\n    }\n\n    .dataframe tbody tr th {\n        vertical-align: top;\n    }\n\n    .dataframe thead th {\n        text-align: right;\n    }\n</style>\n<table border=\"1\" class=\"dataframe\">\n  <thead>\n    <tr style=\"text-align: right;\">\n      <th></th>\n      <th>pickup_datetime</th>\n      <th>fare_amount</th>\n      <th>fare_class</th>\n      <th>pickup_longitude</th>\n      <th>pickup_latitude</th>\n      <th>dropoff_longitude</th>\n      <th>dropoff_latitude</th>\n      <th>passenger_count</th>\n      <th>dist_km</th>\n      <th>EDTdate</th>\n      <th>Hour</th>\n      <th>AMorPM</th>\n      <th>Weekday</th>\n    </tr>\n  </thead>\n  <tbody>\n    <tr>\n      <th>0</th>\n      <td>2010-04-19 08:17:56+00:00</td>\n      <td>6.5</td>\n      <td>0</td>\n      <td>-73.992365</td>\n      <td>40.730521</td>\n      <td>-73.975499</td>\n      <td>40.744746</td>\n      <td>1</td>\n      <td>2.126312</td>\n      <td>2010-04-19 04:17:56+00:00</td>\n      <td>4</td>\n      <td>am</td>\n      <td>Mon</td>\n    </tr>\n    <tr>\n      <th>1</th>\n      <td>2010-04-17 15:43:53+00:00</td>\n      <td>6.9</td>\n      <td>0</td>\n      <td>-73.990078</td>\n      <td>40.740558</td>\n      <td>-73.974232</td>\n      <td>40.744114</td>\n      <td>1</td>\n      <td>1.392307</td>\n      <td>2010-04-17 11:43:53+00:00</td>\n      <td>11</td>\n      <td>am</td>\n      <td>Sat</td>\n    </tr>\n    <tr>\n      <th>2</th>\n      <td>2010-04-17 11:23:26+00:00</td>\n      <td>10.1</td>\n      <td>1</td>\n      <td>-73.994149</td>\n      <td>40.751118</td>\n      <td>-73.960064</td>\n      <td>40.766235</td>\n      <td>2</td>\n      <td>3.326763</td>\n      <td>2010-04-17 07:23:26+00:00</td>\n      <td>7</td>\n      <td>am</td>\n      <td>Sat</td>\n    </tr>\n    <tr>\n      <th>3</th>\n      <td>2010-04-11 21:25:03+00:00</td>\n      <td>8.9</td>\n      <td>0</td>\n      <td>-73.990485</td>\n      <td>40.756422</td>\n      <td>-73.971205</td>\n      <td>40.748192</td>\n      <td>1</td>\n      <td>1.864129</td>\n      <td>2010-04-11 17:25:03+00:00</td>\n      <td>17</td>\n      <td>pm</td>\n      <td>Sun</td>\n    </tr>\n    <tr>\n      <th>4</th>\n      <td>2010-04-17 02:19:01+00:00</td>\n      <td>19.7</td>\n      <td>1</td>\n      <td>-73.990976</td>\n      <td>40.734202</td>\n      <td>-73.905956</td>\n      <td>40.743115</td>\n      <td>1</td>\n      <td>7.231321</td>\n      <td>2010-04-16 22:19:01+00:00</td>\n      <td>22</td>\n      <td>pm</td>\n      <td>Fri</td>\n    </tr>\n  </tbody>\n</table>\n</div>"
     },
     "execution_count": 22,
     "metadata": {},
     "output_type": "execute_result"
    }
   ],
   "source": [
    "df.head()"
   ],
   "metadata": {
    "collapsed": false,
    "pycharm": {
     "name": "#%%\n"
    }
   }
  },
  {
   "cell_type": "code",
   "execution_count": 23,
   "outputs": [
    {
     "data": {
      "text/plain": "Index(['pickup_datetime', 'fare_amount', 'fare_class', 'pickup_longitude',\n       'pickup_latitude', 'dropoff_longitude', 'dropoff_latitude',\n       'passenger_count', 'dist_km', 'EDTdate', 'Hour', 'AMorPM', 'Weekday'],\n      dtype='object')"
     },
     "execution_count": 23,
     "metadata": {},
     "output_type": "execute_result"
    }
   ],
   "source": [
    "df.columns"
   ],
   "metadata": {
    "collapsed": false,
    "pycharm": {
     "name": "#%%\n"
    }
   }
  },
  {
   "cell_type": "code",
   "execution_count": 24,
   "outputs": [],
   "source": [
    "# Categorical columns.\n",
    "cat_cols = ['Hour','AMorPM','Weekday']\n",
    "# Continuous columns.\n",
    "cont_cols = ['pickup_longitude','pickup_latitude', 'dropoff_longitude','dropoff_latitude','passenger_count','dist_km']"
   ],
   "metadata": {
    "collapsed": false,
    "pycharm": {
     "name": "#%%\n"
    }
   }
  },
  {
   "cell_type": "code",
   "execution_count": 25,
   "outputs": [],
   "source": [
    "y_col = ['fare_amount']"
   ],
   "metadata": {
    "collapsed": false,
    "pycharm": {
     "name": "#%%\n"
    }
   }
  },
  {
   "cell_type": "code",
   "execution_count": 26,
   "outputs": [
    {
     "data": {
      "text/plain": "pickup_datetime      datetime64[ns, UTC]\nfare_amount                      float64\nfare_class                         int64\npickup_longitude                 float64\npickup_latitude                  float64\ndropoff_longitude                float64\ndropoff_latitude                 float64\npassenger_count                    int64\ndist_km                          float64\nEDTdate              datetime64[ns, UTC]\nHour                               int64\nAMorPM                            object\nWeekday                           object\ndtype: object"
     },
     "execution_count": 26,
     "metadata": {},
     "output_type": "execute_result"
    }
   ],
   "source": [
    "df.dtypes"
   ],
   "metadata": {
    "collapsed": false,
    "pycharm": {
     "name": "#%%\n"
    }
   }
  },
  {
   "cell_type": "code",
   "execution_count": 27,
   "outputs": [],
   "source": [
    "for cat in cat_cols:\n",
    "    df[cat] = df[cat].astype('category')"
   ],
   "metadata": {
    "collapsed": false,
    "pycharm": {
     "name": "#%%\n"
    }
   }
  },
  {
   "cell_type": "code",
   "execution_count": 28,
   "outputs": [
    {
     "data": {
      "text/plain": "pickup_datetime      datetime64[ns, UTC]\nfare_amount                      float64\nfare_class                         int64\npickup_longitude                 float64\npickup_latitude                  float64\ndropoff_longitude                float64\ndropoff_latitude                 float64\npassenger_count                    int64\ndist_km                          float64\nEDTdate              datetime64[ns, UTC]\nHour                            category\nAMorPM                          category\nWeekday                         category\ndtype: object"
     },
     "execution_count": 28,
     "metadata": {},
     "output_type": "execute_result"
    }
   ],
   "source": [
    "df.dtypes"
   ],
   "metadata": {
    "collapsed": false,
    "pycharm": {
     "name": "#%%\n"
    }
   }
  },
  {
   "cell_type": "code",
   "execution_count": 29,
   "outputs": [
    {
     "data": {
      "text/plain": "0    am\n1    am\n2    am\n3    pm\n4    pm\nName: AMorPM, dtype: category\nCategories (2, object): [am, pm]"
     },
     "execution_count": 29,
     "metadata": {},
     "output_type": "execute_result"
    }
   ],
   "source": [
    "df['AMorPM'].head()"
   ],
   "metadata": {
    "collapsed": false,
    "pycharm": {
     "name": "#%%\n"
    }
   }
  },
  {
   "cell_type": "code",
   "execution_count": 30,
   "outputs": [
    {
     "data": {
      "text/plain": "0     4\n1    11\n2     7\n3    17\n4    22\nName: Hour, dtype: category\nCategories (24, int64): [0, 1, 2, 3, ..., 20, 21, 22, 23]"
     },
     "execution_count": 30,
     "metadata": {},
     "output_type": "execute_result"
    }
   ],
   "source": [
    "df['Hour'].head()"
   ],
   "metadata": {
    "collapsed": false,
    "pycharm": {
     "name": "#%%\n"
    }
   }
  },
  {
   "cell_type": "code",
   "execution_count": 31,
   "outputs": [
    {
     "data": {
      "text/plain": "0    Mon\n1    Sat\n2    Sat\n3    Sun\n4    Fri\nName: Weekday, dtype: category\nCategories (7, object): [Fri, Mon, Sat, Sun, Thu, Tue, Wed]"
     },
     "execution_count": 31,
     "metadata": {},
     "output_type": "execute_result"
    }
   ],
   "source": [
    "df['Weekday'].head()"
   ],
   "metadata": {
    "collapsed": false,
    "pycharm": {
     "name": "#%%\n"
    }
   }
  },
  {
   "cell_type": "code",
   "execution_count": 32,
   "outputs": [
    {
     "data": {
      "text/plain": "Index(['Fri', 'Mon', 'Sat', 'Sun', 'Thu', 'Tue', 'Wed'], dtype='object')"
     },
     "execution_count": 32,
     "metadata": {},
     "output_type": "execute_result"
    }
   ],
   "source": [
    "df['Weekday'].cat.categories"
   ],
   "metadata": {
    "collapsed": false,
    "pycharm": {
     "name": "#%%\n"
    }
   }
  },
  {
   "cell_type": "code",
   "execution_count": 33,
   "outputs": [
    {
     "data": {
      "text/plain": "0         1\n1         2\n2         2\n3         3\n4         0\n5         4\n6         0\n7         4\n8         5\n9         0\n10        4\n11        4\n12        0\n13        2\n14        6\n15        5\n16        4\n17        4\n18        6\n19        5\n20        5\n21        1\n22        5\n23        5\n24        6\n25        2\n26        3\n27        4\n28        0\n29        5\n         ..\n119970    3\n119971    4\n119972    0\n119973    2\n119974    2\n119975    5\n119976    5\n119977    5\n119978    3\n119979    6\n119980    6\n119981    4\n119982    6\n119983    6\n119984    0\n119985    1\n119986    0\n119987    1\n119988    3\n119989    2\n119990    3\n119991    1\n119992    0\n119993    1\n119994    3\n119995    3\n119996    0\n119997    3\n119998    5\n119999    2\nLength: 120000, dtype: int8"
     },
     "execution_count": 33,
     "metadata": {},
     "output_type": "execute_result"
    }
   ],
   "source": [
    "df['Weekday'].cat.codes"
   ],
   "metadata": {
    "collapsed": false,
    "pycharm": {
     "name": "#%%\n"
    }
   }
  },
  {
   "cell_type": "code",
   "execution_count": 34,
   "outputs": [
    {
     "data": {
      "text/plain": "pandas.core.series.Series"
     },
     "execution_count": 34,
     "metadata": {},
     "output_type": "execute_result"
    }
   ],
   "source": [
    "type(df['Weekday'].cat.codes)"
   ],
   "metadata": {
    "collapsed": false,
    "pycharm": {
     "name": "#%%\n"
    }
   }
  },
  {
   "cell_type": "code",
   "execution_count": 35,
   "outputs": [
    {
     "data": {
      "text/plain": "array([1, 2, 2, ..., 3, 5, 2], dtype=int8)"
     },
     "execution_count": 35,
     "metadata": {},
     "output_type": "execute_result"
    }
   ],
   "source": [
    "df['Weekday'].cat.codes.values"
   ],
   "metadata": {
    "collapsed": false,
    "pycharm": {
     "name": "#%%\n"
    }
   }
  },
  {
   "cell_type": "code",
   "execution_count": 36,
   "outputs": [
    {
     "data": {
      "text/plain": "numpy.ndarray"
     },
     "execution_count": 36,
     "metadata": {},
     "output_type": "execute_result"
    }
   ],
   "source": [
    "type(df['Weekday'].cat.codes.values)"
   ],
   "metadata": {
    "collapsed": false,
    "pycharm": {
     "name": "#%%\n"
    }
   }
  },
  {
   "cell_type": "code",
   "execution_count": 37,
   "outputs": [],
   "source": [
    "hr = df['Hour'].cat.codes.values\n",
    "ampm = df['AMorPM'].cat.codes.values\n",
    "wkdy = df['Weekday'].cat.codes.values"
   ],
   "metadata": {
    "collapsed": false,
    "pycharm": {
     "name": "#%%\n"
    }
   }
  },
  {
   "cell_type": "code",
   "execution_count": 38,
   "outputs": [],
   "source": [
    "cats = np.stack([hr,ampm,wkdy], axis=1)"
   ],
   "metadata": {
    "collapsed": false,
    "pycharm": {
     "name": "#%%\n"
    }
   }
  },
  {
   "cell_type": "code",
   "execution_count": 39,
   "outputs": [
    {
     "data": {
      "text/plain": "array([[ 4,  0,  1],\n       [11,  0,  2],\n       [ 7,  0,  2],\n       ...,\n       [14,  1,  3],\n       [ 4,  0,  5],\n       [12,  1,  2]], dtype=int8)"
     },
     "execution_count": 39,
     "metadata": {},
     "output_type": "execute_result"
    }
   ],
   "source": [
    "cats"
   ],
   "metadata": {
    "collapsed": false,
    "pycharm": {
     "name": "#%%\n"
    }
   }
  },
  {
   "cell_type": "code",
   "execution_count": 40,
   "outputs": [],
   "source": [
    "# One liner for what we did above. Now we just have to take care of cat_cols.\n",
    "cats = np.stack([df[col].cat.codes.values for col in cat_cols], axis=1)"
   ],
   "metadata": {
    "collapsed": false,
    "pycharm": {
     "name": "#%%\n"
    }
   }
  },
  {
   "cell_type": "code",
   "execution_count": 41,
   "outputs": [
    {
     "data": {
      "text/plain": "array([[ 4,  0,  1],\n       [11,  0,  2],\n       [ 7,  0,  2],\n       ...,\n       [14,  1,  3],\n       [ 4,  0,  5],\n       [12,  1,  2]], dtype=int8)"
     },
     "execution_count": 41,
     "metadata": {},
     "output_type": "execute_result"
    }
   ],
   "source": [
    "cats"
   ],
   "metadata": {
    "collapsed": false,
    "pycharm": {
     "name": "#%%\n"
    }
   }
  },
  {
   "cell_type": "code",
   "execution_count": 42,
   "outputs": [],
   "source": [
    "cats = torch.tensor(cats, dtype=torch.int64)"
   ],
   "metadata": {
    "collapsed": false,
    "pycharm": {
     "name": "#%%\n"
    }
   }
  },
  {
   "cell_type": "code",
   "execution_count": 43,
   "outputs": [],
   "source": [
    "conts = np.stack([df[col].values for col in cont_cols], axis=1)"
   ],
   "metadata": {
    "collapsed": false,
    "pycharm": {
     "name": "#%%\n"
    }
   }
  },
  {
   "cell_type": "code",
   "execution_count": 44,
   "outputs": [
    {
     "data": {
      "text/plain": "array([[-73.992365  ,  40.730521  , -73.975499  ,  40.744746  ,\n          1.        ,   2.12631159],\n       [-73.990078  ,  40.740558  , -73.974232  ,  40.744114  ,\n          1.        ,   1.39230687],\n       [-73.994149  ,  40.751118  , -73.960064  ,  40.766235  ,\n          2.        ,   3.32676344],\n       ...,\n       [-73.988574  ,  40.749772  , -74.011541  ,  40.707799  ,\n          3.        ,   5.05252282],\n       [-74.004449  ,  40.724529  , -73.992697  ,  40.730765  ,\n          1.        ,   1.20892296],\n       [-73.955415  ,  40.77192   , -73.967623  ,  40.763015  ,\n          3.        ,   1.42739869]])"
     },
     "execution_count": 44,
     "metadata": {},
     "output_type": "execute_result"
    }
   ],
   "source": [
    "conts"
   ],
   "metadata": {
    "collapsed": false,
    "pycharm": {
     "name": "#%%\n"
    }
   }
  },
  {
   "cell_type": "code",
   "execution_count": 45,
   "outputs": [],
   "source": [
    "conts = torch.tensor(conts, dtype=torch.float)"
   ],
   "metadata": {
    "collapsed": false,
    "pycharm": {
     "name": "#%%\n"
    }
   }
  },
  {
   "cell_type": "code",
   "execution_count": 46,
   "outputs": [
    {
     "data": {
      "text/plain": "tensor([[-73.9924,  40.7305, -73.9755,  40.7447,   1.0000,   2.1263],\n        [-73.9901,  40.7406, -73.9742,  40.7441,   1.0000,   1.3923],\n        [-73.9941,  40.7511, -73.9601,  40.7662,   2.0000,   3.3268],\n        ...,\n        [-73.9886,  40.7498, -74.0115,  40.7078,   3.0000,   5.0525],\n        [-74.0044,  40.7245, -73.9927,  40.7308,   1.0000,   1.2089],\n        [-73.9554,  40.7719, -73.9676,  40.7630,   3.0000,   1.4274]])"
     },
     "execution_count": 46,
     "metadata": {},
     "output_type": "execute_result"
    }
   ],
   "source": [
    "conts"
   ],
   "metadata": {
    "collapsed": false,
    "pycharm": {
     "name": "#%%\n"
    }
   }
  },
  {
   "cell_type": "code",
   "execution_count": 47,
   "outputs": [],
   "source": [
    "y = torch.tensor(df[y_col].values, dtype=torch.float)"
   ],
   "metadata": {
    "collapsed": false,
    "pycharm": {
     "name": "#%%\n"
    }
   }
  },
  {
   "cell_type": "code",
   "execution_count": 48,
   "outputs": [
    {
     "data": {
      "text/plain": "tensor([[ 6.5000],\n        [ 6.9000],\n        [10.1000],\n        ...,\n        [12.5000],\n        [ 4.9000],\n        [ 5.3000]])"
     },
     "execution_count": 48,
     "metadata": {},
     "output_type": "execute_result"
    }
   ],
   "source": [
    "y"
   ],
   "metadata": {
    "collapsed": false,
    "pycharm": {
     "name": "#%%\n"
    }
   }
  },
  {
   "cell_type": "code",
   "execution_count": 49,
   "outputs": [
    {
     "data": {
      "text/plain": "torch.Size([120000, 3])"
     },
     "execution_count": 49,
     "metadata": {},
     "output_type": "execute_result"
    }
   ],
   "source": [
    "cats.shape"
   ],
   "metadata": {
    "collapsed": false,
    "pycharm": {
     "name": "#%%\n"
    }
   }
  },
  {
   "cell_type": "code",
   "execution_count": 50,
   "outputs": [
    {
     "data": {
      "text/plain": "torch.Size([120000, 6])"
     },
     "execution_count": 50,
     "metadata": {},
     "output_type": "execute_result"
    }
   ],
   "source": [
    "conts.shape"
   ],
   "metadata": {
    "collapsed": false,
    "pycharm": {
     "name": "#%%\n"
    }
   }
  },
  {
   "cell_type": "code",
   "execution_count": 51,
   "outputs": [
    {
     "data": {
      "text/plain": "torch.Size([120000, 1])"
     },
     "execution_count": 51,
     "metadata": {},
     "output_type": "execute_result"
    }
   ],
   "source": [
    "y.shape"
   ],
   "metadata": {
    "collapsed": false,
    "pycharm": {
     "name": "#%%\n"
    }
   }
  },
  {
   "cell_type": "code",
   "execution_count": 52,
   "outputs": [],
   "source": [
    "cat_szs = [len(df[col].cat.categories) for col in cat_cols]"
   ],
   "metadata": {
    "collapsed": false,
    "pycharm": {
     "name": "#%%\n"
    }
   }
  },
  {
   "cell_type": "code",
   "execution_count": 53,
   "outputs": [
    {
     "data": {
      "text/plain": "[24, 2, 7]"
     },
     "execution_count": 53,
     "metadata": {},
     "output_type": "execute_result"
    }
   ],
   "source": [
    "cat_szs"
   ],
   "metadata": {
    "collapsed": false,
    "pycharm": {
     "name": "#%%\n"
    }
   }
  },
  {
   "cell_type": "code",
   "execution_count": 54,
   "outputs": [],
   "source": [
    "emb_szs = [(size,min(50,(size+1)//2)) for size in cat_szs]"
   ],
   "metadata": {
    "collapsed": false,
    "pycharm": {
     "name": "#%%\n"
    }
   }
  },
  {
   "cell_type": "code",
   "execution_count": 55,
   "outputs": [
    {
     "data": {
      "text/plain": "[(24, 12), (2, 1), (7, 4)]"
     },
     "execution_count": 55,
     "metadata": {},
     "output_type": "execute_result"
    }
   ],
   "source": [
    "emb_szs"
   ],
   "metadata": {
    "collapsed": false,
    "pycharm": {
     "name": "#%%\n"
    }
   }
  },
  {
   "cell_type": "code",
   "execution_count": 56,
   "outputs": [],
   "source": [
    "catz = cats[:2]"
   ],
   "metadata": {
    "collapsed": false,
    "pycharm": {
     "name": "#%%\n"
    }
   }
  },
  {
   "cell_type": "code",
   "execution_count": 57,
   "outputs": [
    {
     "data": {
      "text/plain": "tensor([[ 4,  0,  1],\n        [11,  0,  2]])"
     },
     "execution_count": 57,
     "metadata": {},
     "output_type": "execute_result"
    }
   ],
   "source": [
    "catz"
   ],
   "metadata": {
    "collapsed": false,
    "pycharm": {
     "name": "#%%\n"
    }
   }
  },
  {
   "cell_type": "code",
   "execution_count": 58,
   "outputs": [],
   "source": [
    "selfembeds = nn.ModuleList([nn.Embedding(ni,nf) for ni, nf in emb_szs])"
   ],
   "metadata": {
    "collapsed": false,
    "pycharm": {
     "name": "#%%\n"
    }
   }
  },
  {
   "cell_type": "code",
   "execution_count": 59,
   "outputs": [
    {
     "data": {
      "text/plain": "ModuleList(\n  (0): Embedding(24, 12)\n  (1): Embedding(2, 1)\n  (2): Embedding(7, 4)\n)"
     },
     "execution_count": 59,
     "metadata": {},
     "output_type": "execute_result"
    }
   ],
   "source": [
    "selfembeds"
   ],
   "metadata": {
    "collapsed": false,
    "pycharm": {
     "name": "#%%\n"
    }
   }
  },
  {
   "cell_type": "code",
   "execution_count": 60,
   "outputs": [],
   "source": [
    "embeddingz = []\n",
    "for i, e in enumerate(selfembeds):\n",
    "    embeddingz.append(e(catz[:,i]))"
   ],
   "metadata": {
    "collapsed": false,
    "pycharm": {
     "name": "#%%\n"
    }
   }
  },
  {
   "cell_type": "code",
   "execution_count": 61,
   "outputs": [
    {
     "data": {
      "text/plain": "[tensor([[ 0.8417, -0.2042, -1.2075, -0.4558, -1.6138, -0.9138,  0.2302, -0.0388,\n           0.9437,  2.3740, -0.8865, -0.3790],\n         [-0.5228, -0.7060,  1.3195, -2.0906, -0.5003, -0.7790,  0.1187,  0.0507,\n           1.3618, -0.1708, -1.4012, -0.8241]], grad_fn=<EmbeddingBackward>),\n tensor([[-1.0074],\n         [-1.0074]], grad_fn=<EmbeddingBackward>),\n tensor([[-2.5639, -0.2959, -0.0327,  1.2346],\n         [ 1.6201,  1.2422,  1.4174,  0.2185]], grad_fn=<EmbeddingBackward>)]"
     },
     "execution_count": 61,
     "metadata": {},
     "output_type": "execute_result"
    }
   ],
   "source": [
    "embeddingz"
   ],
   "metadata": {
    "collapsed": false,
    "pycharm": {
     "name": "#%%\n"
    }
   }
  },
  {
   "cell_type": "code",
   "execution_count": 62,
   "outputs": [],
   "source": [
    "z = torch.cat(embeddingz, 1)"
   ],
   "metadata": {
    "collapsed": false,
    "pycharm": {
     "name": "#%%\n"
    }
   }
  },
  {
   "cell_type": "code",
   "execution_count": 63,
   "outputs": [
    {
     "data": {
      "text/plain": "tensor([[ 0.8417, -0.2042, -1.2075, -0.4558, -1.6138, -0.9138,  0.2302, -0.0388,\n          0.9437,  2.3740, -0.8865, -0.3790, -1.0074, -2.5639, -0.2959, -0.0327,\n          1.2346],\n        [-0.5228, -0.7060,  1.3195, -2.0906, -0.5003, -0.7790,  0.1187,  0.0507,\n          1.3618, -0.1708, -1.4012, -0.8241, -1.0074,  1.6201,  1.2422,  1.4174,\n          0.2185]], grad_fn=<CatBackward>)"
     },
     "execution_count": 63,
     "metadata": {},
     "output_type": "execute_result"
    }
   ],
   "source": [
    "z"
   ],
   "metadata": {
    "collapsed": false,
    "pycharm": {
     "name": "#%%\n"
    }
   }
  },
  {
   "cell_type": "code",
   "execution_count": 64,
   "outputs": [],
   "source": [
    "selfembdrop = nn.Dropout(0.4) # Randomly sets some values as 0 with a probability of 40%"
   ],
   "metadata": {
    "collapsed": false,
    "pycharm": {
     "name": "#%%\n"
    }
   }
  },
  {
   "cell_type": "code",
   "execution_count": 65,
   "outputs": [],
   "source": [
    "z = selfembdrop(z) # Some values set to 0 with probability 40%"
   ],
   "metadata": {
    "collapsed": false,
    "pycharm": {
     "name": "#%%\n"
    }
   }
  },
  {
   "cell_type": "code",
   "execution_count": 66,
   "outputs": [
    {
     "data": {
      "text/plain": "tensor([[ 1.4029, -0.3403, -2.0125, -0.7597, -2.6897, -0.0000,  0.0000, -0.0000,\n          1.5728,  3.9566, -1.4774, -0.6317, -1.6790, -4.2732, -0.0000, -0.0546,\n          0.0000],\n        [-0.8714, -1.1766,  2.1992, -3.4844, -0.8338, -0.0000,  0.1979,  0.0845,\n          0.0000, -0.0000, -2.3353, -0.0000, -1.6790,  2.7002,  0.0000,  2.3624,\n          0.3641]], grad_fn=<MulBackward0>)"
     },
     "execution_count": 66,
     "metadata": {},
     "output_type": "execute_result"
    }
   ],
   "source": [
    "z"
   ],
   "metadata": {
    "collapsed": false,
    "pycharm": {
     "name": "#%%\n"
    }
   }
  },
  {
   "cell_type": "code",
   "execution_count": 67,
   "outputs": [],
   "source": [
    "class TabluarModel(nn.Module):\n",
    "\n",
    "    def __init__(self, emb_szs, n_cont, out_sz, layers, p=0.5):\n",
    "        super().__init__()\n",
    "        self.embeds = nn.ModuleList([nn.Embedding(ni,nf) for ni, nf in emb_szs])\n",
    "        self.emb_drop = nn.Dropout(p)\n",
    "        self.bn_cont = nn.BatchNorm1d(n_cont)\n",
    "\n",
    "        layerlist = []\n",
    "        n_emb = sum([nf for ni, nf in emb_szs])\n",
    "        n_in = n_emb + n_cont\n",
    "\n",
    "        for i in layers:\n",
    "            layerlist.append(nn.Linear(n_in, i))\n",
    "            layerlist.append(nn.ReLU(inplace=True))\n",
    "            layerlist.append(nn.BatchNorm1d(i))\n",
    "            layerlist.append(nn.Dropout(p))\n",
    "            n_in = i\n",
    "\n",
    "        layerlist.append((nn.Linear(layers[-1],out_sz)))\n",
    "        self.layers = nn.Sequential(*layerlist)\n",
    "\n",
    "    def forward(self, x_cat, x_cont):\n",
    "        embeddings = []\n",
    "        for i,e in enumerate(self.embeds):\n",
    "            embeddings.append(e(x_cat[:,i]))\n",
    "\n",
    "        x = torch.cat(embeddings, 1)\n",
    "        x = self.emb_drop(x)\n",
    "\n",
    "        x_cont = self.bn_cont(x_cont)\n",
    "        x = torch.cat([x,x_cont],1)\n",
    "        x = self.layers(x)\n",
    "        return x"
   ],
   "metadata": {
    "collapsed": false,
    "pycharm": {
     "name": "#%%\n"
    }
   }
  },
  {
   "cell_type": "code",
   "execution_count": 68,
   "outputs": [
    {
     "data": {
      "text/plain": "<torch._C.Generator at 0x2d63337a950>"
     },
     "execution_count": 68,
     "metadata": {},
     "output_type": "execute_result"
    }
   ],
   "source": [
    "torch.manual_seed(33)"
   ],
   "metadata": {
    "collapsed": false,
    "pycharm": {
     "name": "#%%\n"
    }
   }
  },
  {
   "cell_type": "code",
   "execution_count": 69,
   "outputs": [],
   "source": [
    "model = TabluarModel(emb_szs, conts.shape[1],1,[200,100],p=0.4)"
   ],
   "metadata": {
    "collapsed": false,
    "pycharm": {
     "name": "#%%\n"
    }
   }
  },
  {
   "cell_type": "code",
   "execution_count": 70,
   "outputs": [
    {
     "data": {
      "text/plain": "TabluarModel(\n  (embeds): ModuleList(\n    (0): Embedding(24, 12)\n    (1): Embedding(2, 1)\n    (2): Embedding(7, 4)\n  )\n  (emb_drop): Dropout(p=0.4)\n  (bn_cont): BatchNorm1d(6, eps=1e-05, momentum=0.1, affine=True, track_running_stats=True)\n  (layers): Sequential(\n    (0): Linear(in_features=23, out_features=200, bias=True)\n    (1): ReLU(inplace)\n    (2): BatchNorm1d(200, eps=1e-05, momentum=0.1, affine=True, track_running_stats=True)\n    (3): Dropout(p=0.4)\n    (4): Linear(in_features=200, out_features=100, bias=True)\n    (5): ReLU(inplace)\n    (6): BatchNorm1d(100, eps=1e-05, momentum=0.1, affine=True, track_running_stats=True)\n    (7): Dropout(p=0.4)\n    (8): Linear(in_features=100, out_features=1, bias=True)\n  )\n)"
     },
     "execution_count": 70,
     "metadata": {},
     "output_type": "execute_result"
    }
   ],
   "source": [
    "model"
   ],
   "metadata": {
    "collapsed": false,
    "pycharm": {
     "name": "#%%\n"
    }
   }
  },
  {
   "cell_type": "code",
   "execution_count": 71,
   "outputs": [],
   "source": [
    "criterion = nn.MSELoss()\n",
    "optimizer = torch.optim.Adam(model.parameters(),lr=0.001)"
   ],
   "metadata": {
    "collapsed": false,
    "pycharm": {
     "name": "#%%\n"
    }
   }
  },
  {
   "cell_type": "code",
   "execution_count": 72,
   "outputs": [],
   "source": [
    "batch_size = 60000\n",
    "test_size = int(batch_size*0.2)"
   ],
   "metadata": {
    "collapsed": false,
    "pycharm": {
     "name": "#%%\n"
    }
   }
  },
  {
   "cell_type": "code",
   "execution_count": 73,
   "outputs": [],
   "source": [
    "cat_train = cats[:batch_size-test_size]\n",
    "cat_test = cats[batch_size-test_size:batch_size]\n",
    "con_train = conts[:batch_size-test_size]\n",
    "con_test = conts[batch_size-test_size:batch_size]"
   ],
   "metadata": {
    "collapsed": false,
    "pycharm": {
     "name": "#%%\n"
    }
   }
  },
  {
   "cell_type": "code",
   "execution_count": 74,
   "outputs": [],
   "source": [
    "y_train = y[:batch_size-test_size]\n",
    "y_test = y[batch_size-test_size:batch_size]"
   ],
   "metadata": {
    "collapsed": false,
    "pycharm": {
     "name": "#%%\n"
    }
   }
  },
  {
   "cell_type": "code",
   "execution_count": 75,
   "outputs": [
    {
     "name": "stdout",
     "output_type": "stream",
     "text": [
      "Epoch: 1 and Loss: 12.497302055358887\n",
      "Epoch: 11 and Loss: 12.161754608154297\n",
      "Epoch: 21 and Loss: 11.738947868347168\n",
      "Epoch: 31 and Loss: 11.324264526367188\n",
      "Epoch: 41 and Loss: 10.908209800720215\n",
      "Epoch: 51 and Loss: 10.477201461791992\n",
      "Epoch: 61 and Loss: 10.076432228088379\n",
      "Epoch: 71 and Loss: 9.711333274841309\n",
      "Epoch: 81 and Loss: 9.359756469726562\n",
      "Epoch: 91 and Loss: 9.048919677734375\n",
      "Epoch: 101 and Loss: 8.72298812866211\n",
      "Epoch: 111 and Loss: 8.388812065124512\n",
      "Epoch: 121 and Loss: 8.022394180297852\n",
      "Epoch: 131 and Loss: 7.615270614624023\n",
      "Epoch: 141 and Loss: 7.174119472503662\n",
      "Epoch: 151 and Loss: 6.7400407791137695\n",
      "Epoch: 161 and Loss: 6.23280668258667\n",
      "Epoch: 171 and Loss: 5.736889362335205\n",
      "Epoch: 181 and Loss: 5.276084899902344\n",
      "Epoch: 191 and Loss: 4.800359725952148\n",
      "Epoch: 201 and Loss: 4.369781970977783\n",
      "Epoch: 211 and Loss: 4.0216474533081055\n",
      "Epoch: 221 and Loss: 3.7737951278686523\n",
      "Epoch: 231 and Loss: 3.613492727279663\n",
      "Epoch: 241 and Loss: 3.5378713607788086\n",
      "Epoch: 251 and Loss: 3.496438503265381\n",
      "Epoch: 261 and Loss: 3.4460055828094482\n",
      "Epoch: 271 and Loss: 3.419755220413208\n",
      "Epoch: 281 and Loss: 3.420693874359131\n",
      "Epoch: 291 and Loss: 3.4014294147491455\n",
      "Training took 241.9170322418213 seconds\n"
     ]
    }
   ],
   "source": [
    "import time\n",
    "\n",
    "start_time = time.time()\n",
    "epochs = 300\n",
    "losses = []\n",
    "\n",
    "for i in range(epochs):\n",
    "    i += 1\n",
    "    y_pred = model(cat_train, con_train)\n",
    "    loss = torch.sqrt((criterion(y_pred, y_train)))\n",
    "    losses.append(loss)\n",
    "\n",
    "    if i%10 == 1:\n",
    "        print(f'Epoch: {i} and Loss: {loss}')\n",
    "\n",
    "    optimizer.zero_grad()\n",
    "    loss.backward()\n",
    "    optimizer.step()\n",
    "\n",
    "duration = time.time() - start_time\n",
    "print(f'Training took {duration} seconds')"
   ],
   "metadata": {
    "collapsed": false,
    "pycharm": {
     "name": "#%%\n"
    }
   }
  },
  {
   "cell_type": "code",
   "execution_count": 76,
   "outputs": [
    {
     "data": {
      "text/plain": "[<matplotlib.lines.Line2D at 0x2d639363160>]"
     },
     "execution_count": 76,
     "metadata": {},
     "output_type": "execute_result"
    },
    {
     "data": {
      "text/plain": "<Figure size 432x288 with 1 Axes>",
      "image/png": "[encoded data removed]"
     },
     "metadata": {
      "needs_background": "light"
     },
     "output_type": "display_data"
    }
   ],
   "source": [
    "plt.plot(range(epochs), losses)"
   ],
   "metadata": {
    "collapsed": false,
    "pycharm": {
     "name": "#%%\n"
    }
   }
  },
  {
   "cell_type": "code",
   "execution_count": 77,
   "outputs": [],
   "source": [
    "torch.save(model.state_dict(), r'C:\\Users\\anCoderr\\Documents\\TaxiModel.pt')"
   ],
   "metadata": {
    "collapsed": false,
    "pycharm": {
     "name": "#%%\n"
    }
   }
  },
  {
   "cell_type": "code",
   "execution_count": 77,
   "outputs": [],
   "source": [],
   "metadata": {
    "collapsed": false,
    "pycharm": {
     "name": "#%%\n"
    }
   }
  }
 ],
 "metadata": {
  "kernelspec": {
   "name": "pycharm-7b8f3b76",
   "language": "python",
   "display_name": "PyCharm (Project_Manabu)"
  },
  "language_info": {
   "codemirror_mode": {
    "name": "ipython",
    "version": 2
   },
   "file_extension": ".py",
   "mimetype": "text/x-python",
   "name": "python",
   "nbconvert_exporter": "python",
   "pygments_lexer": "ipython2",
   "version": "2.7.6"
  }
 },
 "nbformat": 4,
 "nbformat_minor": 0
}