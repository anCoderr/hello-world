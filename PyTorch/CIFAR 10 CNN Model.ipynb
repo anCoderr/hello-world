{
 "cells": [
  {
   "cell_type": "code",
   "execution_count": 1,
   "metadata": {
    "collapsed": true
   },
   "outputs": [],
   "source": [
    "import torch\n",
    "import torch.nn as nn\n",
    "import torch.nn.functional as F\n",
    "from torch.utils.data import DataLoader\n",
    "from torchvision import datasets, transforms\n",
    "\n",
    "import matplotlib.pyplot as plt"
   ]
  },
  {
   "cell_type": "code",
   "execution_count": 2,
   "metadata": {
    "collapsed": false,
    "pycharm": {
     "name": "#%%\n"
    }
   },
   "outputs": [
    {
     "name": "stdout",
     "output_type": "stream",
     "text": [
      "Downloading https://www.cs.toronto.edu/~kriz/cifar-10-python.tar.gz to ../Data\\cifar-10-python.tar.gz\n"
     ]
    },
    {
     "name": "stderr",
     "output_type": "stream",
     "text": [
      "100.0%\n"
     ]
    },
    {
     "name": "stdout",
     "output_type": "stream",
     "text": [
      "Extracting ../Data\\cifar-10-python.tar.gz to ../Data\n",
      "Files already downloaded and verified\n"
     ]
    }
   ],
   "source": [
    "train_data = datasets.CIFAR10(root='../Data', train=True, download=True, transform=transforms.ToTensor())\n",
    "test_data = datasets.CIFAR10(root='../Data', train=False, download=True, transform=transforms.ToTensor())"
   ]
  },
  {
   "cell_type": "code",
   "execution_count": 3,
   "metadata": {
    "collapsed": false,
    "pycharm": {
     "name": "#%%\n"
    }
   },
   "outputs": [],
   "source": [
    "epochs = 20\n",
    "batch_size = 50\n",
    "input_size = 32*32\n",
    "output_size = 10\n",
    "learning_rate = 0.001\n",
    "train_data_size = len(train_data)\n",
    "test_data_size = len(test_data)\n",
    "train_batch_count = len(train_data) // batch_size\n",
    "test_batch_count = len(test_data) // batch_size"
   ]
  },
  {
   "cell_type": "code",
   "execution_count": 4,
   "metadata": {
    "collapsed": false,
    "pycharm": {
     "name": "#%%\n"
    }
   },
   "outputs": [],
   "source": [
    "train_loader = DataLoader(train_data, batch_size=batch_size, shuffle=True)\n",
    "test_loader = DataLoader(test_data, batch_size=batch_size, shuffle=False)"
   ]
  },
  {
   "cell_type": "code",
   "execution_count": 5,
   "metadata": {
    "collapsed": false,
    "pycharm": {
     "name": "#%%\n"
    }
   },
   "outputs": [],
   "source": [
    "class_names = ['plane', '  car', ' bird', '  cat', ' deer', '  dog', ' frog', 'horse', ' ship', 'truck']"
   ]
  },
  {
   "cell_type": "code",
   "execution_count": 6,
   "metadata": {
    "collapsed": false,
    "pycharm": {
     "name": "#%%\n"
    }
   },
   "outputs": [],
   "source": [
    "class CNN(nn.Module):\n",
    "    def __init__(self):\n",
    "        super(CNN, self).__init__()\n",
    "        self.conv1 = nn.Conv2d(3, 6, 5, 1)\n",
    "        self.conv2 = nn.Conv2d(6, 16, 3, 1)\n",
    "        self.fc1 = nn.Linear(6*6*16,120)\n",
    "        self.fc2 = nn.Linear(120,84)\n",
    "        self.fc3 = nn.Linear(84,10)\n",
    "\n",
    "    def forward(self, x):\n",
    "        x = F.relu(self.conv1(x))\n",
    "        x = F.max_pool2d(x, 2, 2)\n",
    "        x = F.relu(self.conv2(x))\n",
    "        x = F.max_pool2d(x, 2, 2)\n",
    "        x = x.view(-1,6*6*16)\n",
    "        x = F.relu(self.fc1(x))\n",
    "        x = F.relu(self.fc2(x))\n",
    "        x = self.fc3(x)\n",
    "        return F.log_softmax(x, dim=1)"
   ]
  },
  {
   "cell_type": "code",
   "execution_count": 7,
   "metadata": {
    "collapsed": false,
    "pycharm": {
     "name": "#%%\n"
    }
   },
   "outputs": [],
   "source": [
    "model = CNN()"
   ]
  },
  {
   "cell_type": "code",
   "execution_count": 8,
   "metadata": {
    "collapsed": false,
    "pycharm": {
     "name": "#%%\n"
    }
   },
   "outputs": [],
   "source": [
    "criterion = nn.CrossEntropyLoss()\n",
    "optimizer = torch.optim.Adam(model.parameters(),lr=learning_rate)"
   ]
  },
  {
   "cell_type": "code",
   "execution_count": 9,
   "metadata": {
    "collapsed": false,
    "pycharm": {
     "name": "#%%\n"
    }
   },
   "outputs": [
    {
     "name": "stdout",
     "output_type": "stream",
     "text": [
      "Epoch: 1  Batch:   0  Loss: 2.305421  Accuracy:  6.000%\n",
      "Epoch: 1  Batch: 200  Loss: 1.813259  Accuracy: 22.517%\n",
      "Epoch: 1  Batch: 400  Loss: 1.632337  Accuracy: 28.843%\n",
      "Epoch: 1  Batch: 600  Loss: 1.986649  Accuracy: 32.546%\n",
      "Epoch: 1  Batch: 800  Loss: 1.674289  Accuracy: 34.916%\n",
      "Epoch: 2  Batch:   0  Loss: 1.387853  Accuracy: 50.000%\n",
      "Epoch: 2  Batch: 200  Loss: 1.674827  Accuracy: 45.532%\n",
      "Epoch: 2  Batch: 400  Loss: 1.578330  Accuracy: 46.419%\n",
      "Epoch: 2  Batch: 600  Loss: 1.435195  Accuracy: 47.364%\n",
      "Epoch: 2  Batch: 800  Loss: 1.488916  Accuracy: 47.910%\n",
      "Epoch: 3  Batch:   0  Loss: 1.097024  Accuracy: 62.000%\n",
      "Epoch: 3  Batch: 200  Loss: 1.473215  Accuracy: 51.871%\n",
      "Epoch: 3  Batch: 400  Loss: 1.076724  Accuracy: 52.628%\n",
      "Epoch: 3  Batch: 600  Loss: 1.227539  Accuracy: 53.208%\n",
      "Epoch: 3  Batch: 800  Loss: 1.227286  Accuracy: 53.448%\n",
      "Epoch: 4  Batch:   0  Loss: 1.201454  Accuracy: 50.000%\n",
      "Epoch: 4  Batch: 200  Loss: 0.893517  Accuracy: 57.214%\n",
      "Epoch: 4  Batch: 400  Loss: 1.009303  Accuracy: 56.903%\n",
      "Epoch: 4  Batch: 600  Loss: 1.192565  Accuracy: 57.055%\n",
      "Epoch: 4  Batch: 800  Loss: 1.152692  Accuracy: 57.261%\n",
      "Epoch: 5  Batch:   0  Loss: 0.977467  Accuracy: 68.000%\n",
      "Epoch: 5  Batch: 200  Loss: 0.914140  Accuracy: 59.174%\n",
      "Epoch: 5  Batch: 400  Loss: 0.904655  Accuracy: 60.015%\n",
      "Epoch: 5  Batch: 600  Loss: 0.990043  Accuracy: 60.083%\n",
      "Epoch: 5  Batch: 800  Loss: 1.054193  Accuracy: 60.190%\n",
      "Epoch: 6  Batch:   0  Loss: 1.200581  Accuracy: 58.000%\n",
      "Epoch: 6  Batch: 200  Loss: 1.256271  Accuracy: 62.786%\n",
      "Epoch: 6  Batch: 400  Loss: 1.227144  Accuracy: 62.110%\n",
      "Epoch: 6  Batch: 600  Loss: 0.758892  Accuracy: 62.080%\n",
      "Epoch: 6  Batch: 800  Loss: 1.153442  Accuracy: 62.062%\n",
      "Epoch: 7  Batch:   0  Loss: 1.214328  Accuracy: 50.000%\n",
      "Epoch: 7  Batch: 200  Loss: 0.642653  Accuracy: 64.249%\n",
      "Epoch: 7  Batch: 400  Loss: 1.016002  Accuracy: 63.726%\n",
      "Epoch: 7  Batch: 600  Loss: 1.163972  Accuracy: 63.747%\n",
      "Epoch: 7  Batch: 800  Loss: 1.180307  Accuracy: 63.683%\n",
      "Epoch: 8  Batch:   0  Loss: 0.925445  Accuracy: 76.000%\n",
      "Epoch: 8  Batch: 200  Loss: 1.154947  Accuracy: 65.721%\n",
      "Epoch: 8  Batch: 400  Loss: 0.944866  Accuracy: 65.840%\n",
      "Epoch: 8  Batch: 600  Loss: 0.908025  Accuracy: 65.830%\n",
      "Epoch: 8  Batch: 800  Loss: 0.884320  Accuracy: 65.566%\n",
      "Epoch: 9  Batch:   0  Loss: 0.880932  Accuracy: 66.000%\n",
      "Epoch: 9  Batch: 200  Loss: 1.012624  Accuracy: 67.303%\n",
      "Epoch: 9  Batch: 400  Loss: 0.795690  Accuracy: 67.072%\n",
      "Epoch: 9  Batch: 600  Loss: 0.680762  Accuracy: 67.008%\n",
      "Epoch: 9  Batch: 800  Loss: 0.648702  Accuracy: 67.064%\n",
      "Epoch: 10  Batch:   0  Loss: 1.018298  Accuracy: 64.000%\n",
      "Epoch: 10  Batch: 200  Loss: 0.859499  Accuracy: 68.935%\n",
      "Epoch: 10  Batch: 400  Loss: 0.765895  Accuracy: 68.564%\n",
      "Epoch: 10  Batch: 600  Loss: 1.102766  Accuracy: 68.346%\n",
      "Epoch: 10  Batch: 800  Loss: 0.671387  Accuracy: 68.390%\n",
      "Epoch: 11  Batch:   0  Loss: 0.963875  Accuracy: 64.000%\n",
      "Epoch: 11  Batch: 200  Loss: 1.116139  Accuracy: 69.353%\n",
      "Epoch: 11  Batch: 400  Loss: 0.874095  Accuracy: 69.267%\n",
      "Epoch: 11  Batch: 600  Loss: 0.665677  Accuracy: 69.354%\n",
      "Epoch: 11  Batch: 800  Loss: 0.863956  Accuracy: 69.134%\n",
      "Epoch: 12  Batch:   0  Loss: 0.644131  Accuracy: 76.000%\n",
      "Epoch: 12  Batch: 200  Loss: 0.924931  Accuracy: 70.229%\n",
      "Epoch: 12  Batch: 400  Loss: 0.880788  Accuracy: 70.608%\n",
      "Epoch: 12  Batch: 600  Loss: 0.677083  Accuracy: 70.459%\n",
      "Epoch: 12  Batch: 800  Loss: 0.899455  Accuracy: 70.439%\n",
      "Epoch: 13  Batch:   0  Loss: 0.724062  Accuracy: 70.000%\n",
      "Epoch: 13  Batch: 200  Loss: 0.939395  Accuracy: 71.483%\n",
      "Epoch: 13  Batch: 400  Loss: 0.895726  Accuracy: 71.451%\n",
      "Epoch: 13  Batch: 600  Loss: 0.840278  Accuracy: 71.058%\n",
      "Epoch: 13  Batch: 800  Loss: 0.632545  Accuracy: 71.144%\n",
      "Epoch: 14  Batch:   0  Loss: 0.705397  Accuracy: 78.000%\n",
      "Epoch: 14  Batch: 200  Loss: 0.775838  Accuracy: 72.706%\n",
      "Epoch: 14  Batch: 400  Loss: 0.726407  Accuracy: 72.628%\n",
      "Epoch: 14  Batch: 600  Loss: 0.772814  Accuracy: 72.253%\n",
      "Epoch: 14  Batch: 800  Loss: 0.880606  Accuracy: 71.975%\n",
      "Epoch: 15  Batch:   0  Loss: 0.588788  Accuracy: 80.000%\n",
      "Epoch: 15  Batch: 200  Loss: 0.590754  Accuracy: 73.990%\n",
      "Epoch: 15  Batch: 400  Loss: 1.001971  Accuracy: 73.616%\n",
      "Epoch: 15  Batch: 600  Loss: 0.904035  Accuracy: 73.381%\n",
      "Epoch: 15  Batch: 800  Loss: 1.057817  Accuracy: 73.056%\n",
      "Epoch: 16  Batch:   0  Loss: 0.830543  Accuracy: 68.000%\n",
      "Epoch: 16  Batch: 200  Loss: 0.752686  Accuracy: 74.488%\n",
      "Epoch: 16  Batch: 400  Loss: 0.791642  Accuracy: 74.105%\n",
      "Epoch: 16  Batch: 600  Loss: 0.588145  Accuracy: 73.917%\n",
      "Epoch: 16  Batch: 800  Loss: 0.656940  Accuracy: 73.888%\n",
      "Epoch: 17  Batch:   0  Loss: 0.587296  Accuracy: 80.000%\n",
      "Epoch: 17  Batch: 200  Loss: 0.641117  Accuracy: 74.896%\n",
      "Epoch: 17  Batch: 400  Loss: 0.625802  Accuracy: 74.339%\n",
      "Epoch: 17  Batch: 600  Loss: 0.825616  Accuracy: 73.814%\n",
      "Epoch: 17  Batch: 800  Loss: 0.778312  Accuracy: 73.848%\n",
      "Epoch: 18  Batch:   0  Loss: 0.522998  Accuracy: 82.000%\n",
      "Epoch: 18  Batch: 200  Loss: 0.760924  Accuracy: 75.542%\n",
      "Epoch: 18  Batch: 400  Loss: 0.575859  Accuracy: 75.242%\n",
      "Epoch: 18  Batch: 600  Loss: 0.740476  Accuracy: 75.381%\n",
      "Epoch: 18  Batch: 800  Loss: 0.649074  Accuracy: 75.111%\n",
      "Epoch: 19  Batch:   0  Loss: 0.722309  Accuracy: 70.000%\n",
      "Epoch: 19  Batch: 200  Loss: 0.592279  Accuracy: 76.896%\n",
      "Epoch: 19  Batch: 400  Loss: 0.595119  Accuracy: 76.414%\n",
      "Epoch: 19  Batch: 600  Loss: 0.518593  Accuracy: 76.203%\n",
      "Epoch: 19  Batch: 800  Loss: 0.675473  Accuracy: 76.005%\n",
      "Epoch: 20  Batch:   0  Loss: 0.725153  Accuracy: 66.000%\n",
      "Epoch: 20  Batch: 200  Loss: 0.860871  Accuracy: 76.667%\n",
      "Epoch: 20  Batch: 400  Loss: 0.777978  Accuracy: 76.953%\n",
      "Epoch: 20  Batch: 600  Loss: 0.689564  Accuracy: 76.705%\n",
      "Epoch: 20  Batch: 800  Loss: 0.438713  Accuracy: 76.292%\n"
     ]
    }
   ],
   "source": [
    "train_losses = []\n",
    "test_losses = []\n",
    "train_accuracy = []\n",
    "test_accuracy = []\n",
    "\n",
    "temp = 200\n",
    "\n",
    "for epoch in range(epochs):\n",
    "\n",
    "    epoch_train_correct = 0\n",
    "    epoch_test_correct = 0\n",
    "\n",
    "    for batch_index, (x_train, y_train) in enumerate(train_loader):\n",
    "        y_pred = model(x_train)\n",
    "        loss = criterion(y_pred, y_train)\n",
    "\n",
    "        predictions = torch.max(y_pred, dim=1)[1]\n",
    "        batch_correct = (predictions == y_train).sum()\n",
    "\n",
    "        epoch_train_correct += batch_correct\n",
    "\n",
    "        optimizer.zero_grad()\n",
    "        loss.backward()\n",
    "        optimizer.step()\n",
    "\n",
    "        if batch_index % temp == 0:\n",
    "            print(f'Epoch: {epoch+1}  Batch: {batch_index :3}  Loss: {loss.item():8.6f}  Accuracy: {((epoch_train_correct * 100) / ((batch_index + 1) * batch_size)):6.3f}%')\n",
    "\n",
    "    train_losses.append(loss.item())\n",
    "    train_accuracy.append(100 * epoch_train_correct / train_data_size)\n",
    "\n",
    "    with torch.no_grad():\n",
    "        for batch_index, (x_test, y_test) in enumerate(test_loader):\n",
    "            y_pred = model(x_test)\n",
    "\n",
    "            predictions = torch.max(y_pred, dim=1)[1]\n",
    "            batch_correct = (predictions == y_test).sum()\n",
    "\n",
    "            epoch_test_correct += batch_correct\n",
    "\n",
    "        loss = criterion(y_pred, y_test)\n",
    "    test_losses.append(loss.item())\n",
    "    test_accuracy.append(100 * epoch_test_correct / test_data_size)"
   ]
  },
  {
   "cell_type": "code",
   "execution_count": 10,
   "metadata": {
    "collapsed": false,
    "pycharm": {
     "name": "#%%\n"
    }
   },
   "outputs": [
    {
     "data": {
      "text/plain": [
       "<matplotlib.legend.Legend at 0x19b8e9dfe80>"
      ]
     },
     "execution_count": 10,
     "metadata": {},
     "output_type": "execute_result"
    },
    {
     "data": {
      "image/png": "[encoded data removed]",
      "text/plain": [
       "<Figure size 432x288 with 1 Axes>"
      ]
     },
     "metadata": {
      "needs_background": "light"
     },
     "output_type": "display_data"
    }
   ],
   "source": [
    "plt.plot(train_losses, label='training loss')\n",
    "plt.plot(test_losses, label='validation loss')\n",
    "plt.legend()"
   ]
  },
  {
   "cell_type": "code",
   "execution_count": 11,
   "metadata": {
    "collapsed": false,
    "pycharm": {
     "name": "#%%\n"
    }
   },
   "outputs": [
    {
     "data": {
      "text/plain": [
       "<matplotlib.legend.Legend at 0x19b906b77c0>"
      ]
     },
     "execution_count": 11,
     "metadata": {},
     "output_type": "execute_result"
    },
    {
     "data": {
      "image/png": "[encoded data removed]",
      "text/plain": [
       "<Figure size 432x288 with 1 Axes>"
      ]
     },
     "metadata": {
      "needs_background": "light"
     },
     "output_type": "display_data"
    }
   ],
   "source": [
    "plt.plot(train_accuracy, label='training accuracy')\n",
    "plt.plot(test_accuracy, label='validation accuracy')\n",
    "plt.legend()"
   ]
  },
  {
   "cell_type": "code",
   "execution_count": 12,
   "metadata": {
    "collapsed": false,
    "pycharm": {
     "name": "#%%\n"
    }
   },
   "outputs": [],
   "source": [
    "torch.save(model.state_dict(),'CIFAR_model_state.pt')"
   ]
  },
  {
   "cell_type": "code",
   "execution_count": null,
   "metadata": {
    "collapsed": false,
    "pycharm": {
     "name": "#%%\n"
    }
   },
   "outputs": [],
   "source": []
  }
 ],
 "metadata": {
  "kernelspec": {
   "display_name": "Python 3.8.13 ('gpuPytorch')",
   "language": "python",
   "name": "python3"
  },
  "language_info": {
   "codemirror_mode": {
    "name": "ipython",
    "version": 3
   },
   "file_extension": ".py",
   "mimetype": "text/x-python",
   "name": "python",
   "nbconvert_exporter": "python",
   "pygments_lexer": "ipython3",
   "version": "3.8.13"
  },
  "vscode": {
   "interpreter": {
    "hash": "74f560ebeffbb7f3270ccd55ad78ebef8e93c4e16fffc5c45d4c4a4020c27963"
   }
  }
 },
 "nbformat": 4,
 "nbformat_minor": 0
}
