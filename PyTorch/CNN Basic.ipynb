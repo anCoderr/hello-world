{
 "cells": [
  {
   "cell_type": "code",
   "execution_count": 113,
   "metadata": {
    "collapsed": true
   },
   "outputs": [],
   "source": [
    "import torch\n",
    "import torch.nn as nn\n",
    "import torch.nn.functional as F\n",
    "from torch.utils.data import DataLoader\n",
    "from torchvision import datasets, transforms\n",
    "from torchvision.utils import make_grid\n",
    "\n",
    "import numpy as np\n",
    "import pandas as pd\n",
    "import matplotlib.pyplot as plt"
   ]
  },
  {
   "cell_type": "code",
   "execution_count": 114,
   "outputs": [],
   "source": [
    "train_data = datasets.MNIST(root='../Data', train=True, transform=transforms.ToTensor(), download=True)\n",
    "test_data = datasets.MNIST(root='../Data', train=False, transform=transforms.ToTensor(), download=True)"
   ],
   "metadata": {
    "collapsed": false,
    "pycharm": {
     "name": "#%%\n"
    }
   }
  },
  {
   "cell_type": "code",
   "execution_count": 115,
   "outputs": [],
   "source": [
    "epochs = 10\n",
    "batch_size = 50\n",
    "input_size = 784\n",
    "output_size = 10\n",
    "learning_rate = 0.001"
   ],
   "metadata": {
    "collapsed": false,
    "pycharm": {
     "name": "#%%\n"
    }
   }
  },
  {
   "cell_type": "code",
   "execution_count": 116,
   "outputs": [],
   "source": [
    "train_loader = DataLoader(train_data, batch_size=batch_size, shuffle=True)\n",
    "test_loader = DataLoader(test_data, batch_size=batch_size, shuffle=False)"
   ],
   "metadata": {
    "collapsed": false,
    "pycharm": {
     "name": "#%%\n"
    }
   }
  },
  {
   "cell_type": "code",
   "execution_count": 117,
   "outputs": [],
   "source": [
    "conv1 = nn.Conv2d(1,6,3,1)\n",
    "conv2 = nn.Conv2d(6,16,3,1)"
   ],
   "metadata": {
    "collapsed": false,
    "pycharm": {
     "name": "#%%\n"
    }
   }
  },
  {
   "cell_type": "code",
   "execution_count": 118,
   "outputs": [],
   "source": [
    "class ConvolutionalNetwork(nn.Module):\n",
    "    def __init__(self):\n",
    "        super(ConvolutionalNetwork, self).__init__()\n",
    "        self.conv1 = nn.Conv2d(1,6,3,1)\n",
    "        self.conv2 = nn.Conv2d(6,16,3,1)\n",
    "        self.fc1 = nn.Linear(400, 120)\n",
    "        self.fc2 = nn.Linear(120, 84)\n",
    "        self.fc3 = nn.Linear(84, 10)\n",
    "\n",
    "    def forward(self, x):\n",
    "        x = F.relu(self.conv1(x))\n",
    "        x = F.max_pool2d(x, 2, 2)\n",
    "        x = F.relu(self.conv2(x))\n",
    "        x = F.max_pool2d(x, 2, 2)\n",
    "        x = x.view(-1,16*5*5)\n",
    "        x = F.relu(self.fc1(x))\n",
    "        x = F.relu(self.fc2(x))\n",
    "        x = self.fc3(x)\n",
    "        x = F.log_softmax(x, dim=1)\n",
    "        return x"
   ],
   "metadata": {
    "collapsed": false,
    "pycharm": {
     "name": "#%%\n"
    }
   }
  },
  {
   "cell_type": "code",
   "execution_count": 119,
   "outputs": [],
   "source": [
    "model = ConvolutionalNetwork()"
   ],
   "metadata": {
    "collapsed": false,
    "pycharm": {
     "name": "#%%\n"
    }
   }
  },
  {
   "cell_type": "code",
   "execution_count": 120,
   "outputs": [],
   "source": [
    "criterion = nn.CrossEntropyLoss()\n",
    "optimizer = torch.optim.Adam(model.parameters(),lr=learning_rate)"
   ],
   "metadata": {
    "collapsed": false,
    "pycharm": {
     "name": "#%%\n"
    }
   }
  },
  {
   "cell_type": "code",
   "execution_count": 121,
   "outputs": [
    {
     "name": "stdout",
     "output_type": "stream",
     "text": [
      "54\n",
      "6\n",
      "864\n",
      "16\n",
      "48000\n",
      "120\n",
      "10080\n",
      "84\n",
      "840\n",
      "10\n"
     ]
    }
   ],
   "source": [
    "for p in model.parameters():\n",
    "    print(p.numel())"
   ],
   "metadata": {
    "collapsed": false,
    "pycharm": {
     "name": "#%%\n"
    }
   }
  },
  {
   "cell_type": "code",
   "execution_count": 122,
   "outputs": [],
   "source": [
    "def check_accuracy(data_loader, model):\n",
    "    correct = 0\n",
    "    samples = 0\n",
    "    data_loader_type = 'Train Dataset' if data_loader.dataset.train else 'Test Dataset'\n",
    "    model.eval()\n",
    "    with torch.no_grad():\n",
    "        for x, y in data_loader:\n",
    "            y_pred = model(x)\n",
    "\n",
    "            y_pred = torch.max(y_pred, dim=1)[1]\n",
    "\n",
    "            correct += (y_pred == y).sum()\n",
    "            samples += y_pred.size(0)\n",
    "\n",
    "        accuracy = correct / samples\n",
    "        print(f'{data_loader_type} with Accuracy: {correct} / {samples} = {accuracy*100:.2f}')\n",
    "    model.train()\n",
    "    return [correct, samples, accuracy]"
   ],
   "metadata": {
    "collapsed": false,
    "pycharm": {
     "name": "#%%\n"
    }
   }
  },
  {
   "cell_type": "code",
   "execution_count": 123,
   "outputs": [
    {
     "name": "stdout",
     "output_type": "stream",
     "text": [
      "Train Dataset with Accuracy: 5923 / 60000 = 9.87\n",
      "Test Dataset with Accuracy: 980 / 10000 = 9.80\n",
      "Epoch: 0 & Train Losses: 2.3275\n",
      "--------------------------------------------------\n",
      "Train Dataset with Accuracy: 57041 / 60000 = 95.07\n",
      "Test Dataset with Accuracy: 9498 / 10000 = 94.98\n",
      "Epoch: 1 & Train Losses: 0.1838\n",
      "--------------------------------------------------\n",
      "Train Dataset with Accuracy: 58652 / 60000 = 97.75\n",
      "Test Dataset with Accuracy: 9753 / 10000 = 97.53\n",
      "Epoch: 2 & Train Losses: 0.1032\n",
      "--------------------------------------------------\n",
      "Train Dataset with Accuracy: 58682 / 60000 = 97.80\n",
      "Test Dataset with Accuracy: 9787 / 10000 = 97.87\n",
      "Epoch: 3 & Train Losses: 0.1717\n",
      "--------------------------------------------------\n",
      "Train Dataset with Accuracy: 59283 / 60000 = 98.81\n",
      "Test Dataset with Accuracy: 9847 / 10000 = 98.47\n",
      "Epoch: 4 & Train Losses: 0.0293\n",
      "--------------------------------------------------\n",
      "Train Dataset with Accuracy: 59318 / 60000 = 98.86\n",
      "Test Dataset with Accuracy: 9859 / 10000 = 98.59\n",
      "Epoch: 5 & Train Losses: 0.0060\n",
      "--------------------------------------------------\n",
      "Train Dataset with Accuracy: 59393 / 60000 = 98.99\n",
      "Test Dataset with Accuracy: 9843 / 10000 = 98.43\n",
      "Epoch: 6 & Train Losses: 0.0082\n",
      "--------------------------------------------------\n",
      "Train Dataset with Accuracy: 59498 / 60000 = 99.16\n",
      "Test Dataset with Accuracy: 9867 / 10000 = 98.67\n",
      "Epoch: 7 & Train Losses: 0.0017\n",
      "--------------------------------------------------\n",
      "Train Dataset with Accuracy: 59613 / 60000 = 99.36\n",
      "Test Dataset with Accuracy: 9872 / 10000 = 98.72\n",
      "Epoch: 8 & Train Losses: 0.0094\n",
      "--------------------------------------------------\n",
      "Train Dataset with Accuracy: 59615 / 60000 = 99.36\n",
      "Test Dataset with Accuracy: 9864 / 10000 = 98.64\n",
      "Epoch: 9 & Train Losses: 0.0487\n",
      "--------------------------------------------------\n"
     ]
    }
   ],
   "source": [
    "train_losses = []\n",
    "train_accuracy = []\n",
    "test_accuracy = []\n",
    "\n",
    "for epoch in range(epochs):\n",
    "\n",
    "    train_acc = check_accuracy(train_loader, model)\n",
    "    test_acc = check_accuracy(test_loader, model)\n",
    "\n",
    "    for batch_index, (x_train, y_train) in enumerate(train_loader):\n",
    "        y_pred = model(x_train)\n",
    "        loss = criterion(y_pred, y_train)\n",
    "\n",
    "        y_pred = torch.max(y_pred, dim=1)[1]\n",
    "\n",
    "        if batch_index == 0:\n",
    "            train_losses.append(loss.item())\n",
    "            train_accuracy.append(train_acc[2]*100)\n",
    "            test_accuracy.append(test_acc[2]*100)\n",
    "            print(f'Epoch: {epoch} & Train Losses: {loss.item():.4f}')\n",
    "\n",
    "        optimizer.zero_grad()\n",
    "        loss.backward()\n",
    "        optimizer.step()\n",
    "\n",
    "\n",
    "    print('-'*50)"
   ],
   "metadata": {
    "collapsed": false,
    "pycharm": {
     "name": "#%%\n"
    }
   }
  },
  {
   "cell_type": "code",
   "execution_count": 124,
   "outputs": [
    {
     "data": {
      "text/plain": "[<matplotlib.lines.Line2D at 0x1530ae39190>]"
     },
     "execution_count": 124,
     "metadata": {},
     "output_type": "execute_result"
    },
    {
     "data": {
      "text/plain": "<Figure size 432x288 with 1 Axes>",
      "image/png": "[encoded data removed]"
     },
     "metadata": {
      "needs_background": "light"
     },
     "output_type": "display_data"
    }
   ],
   "source": [
    "plt.plot(train_losses)"
   ],
   "metadata": {
    "collapsed": false,
    "pycharm": {
     "name": "#%%\n"
    }
   }
  },
  {
   "cell_type": "code",
   "execution_count": 125,
   "outputs": [
    {
     "data": {
      "text/plain": "[<matplotlib.lines.Line2D at 0x1530adc8f10>]"
     },
     "execution_count": 125,
     "metadata": {},
     "output_type": "execute_result"
    },
    {
     "data": {
      "text/plain": "<Figure size 432x288 with 1 Axes>",
      "image/png": "[encoded data removed]"
     },
     "metadata": {
      "needs_background": "light"
     },
     "output_type": "display_data"
    }
   ],
   "source": [
    "plt.plot(train_accuracy)\n",
    "plt.plot(test_accuracy)"
   ],
   "metadata": {
    "collapsed": false,
    "pycharm": {
     "name": "#%%\n"
    }
   }
  }
 ],
 "metadata": {
  "kernelspec": {
   "display_name": "Python 3",
   "language": "python",
   "name": "python3"
  },
  "language_info": {
   "codemirror_mode": {
    "name": "ipython",
    "version": 2
   },
   "file_extension": ".py",
   "mimetype": "text/x-python",
   "name": "python",
   "nbconvert_exporter": "python",
   "pygments_lexer": "ipython2",
   "version": "2.7.6"
  }
 },
 "nbformat": 4,
 "nbformat_minor": 0
}